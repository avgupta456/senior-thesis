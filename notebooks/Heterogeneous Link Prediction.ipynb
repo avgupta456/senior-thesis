{
 "cells": [
  {
   "cell_type": "markdown",
   "id": "0c9f930a",
   "metadata": {},
   "source": [
    "## Dependencies"
   ]
  },
  {
   "cell_type": "code",
   "execution_count": 1,
   "id": "dab1594f",
   "metadata": {},
   "outputs": [
    {
     "name": "stderr",
     "output_type": "stream",
     "text": [
      "C:\\Users\\Abhijit\\Documents\\GitHub\\cpsc490\\.venv\\lib\\site-packages\\tqdm\\auto.py:22: TqdmWarning: IProgress not found. Please update jupyter and ipywidgets. See https://ipywidgets.readthedocs.io/en/stable/user_install.html\n",
      "  from .autonotebook import tqdm as notebook_tqdm\n"
     ]
    }
   ],
   "source": [
    "from tqdm import tqdm\n",
    "import statistics\n",
    "\n",
    "import torch\n",
    "import matplotlib.pyplot as plt\n",
    "import networkx as nx\n",
    "import numpy as np\n",
    "from sklearn.metrics import roc_auc_score, accuracy_score\n",
    "\n",
    "import torch_geometric.transforms as T\n",
    "from torch_geometric.datasets import SNAPDataset, DBLP, IMDB\n",
    "from torch_geometric.nn import GCNConv, SAGEConv, GATConv, GINConv, to_hetero\n",
    "from torch_geometric.utils import negative_sampling, to_networkx\n",
    "\n",
    "torch.manual_seed(0)\n",
    "\n",
    "%matplotlib notebook"
   ]
  },
  {
   "cell_type": "markdown",
   "id": "c3a66043",
   "metadata": {},
   "source": [
    "## Data"
   ]
  },
  {
   "cell_type": "code",
   "execution_count": 2,
   "id": "a9d6bbbe",
   "metadata": {},
   "outputs": [
    {
     "data": {
      "text/plain": [
       "HeteroData(\n",
       "  \u001b[1mauthor\u001b[0m={\n",
       "    x=[4057, 334],\n",
       "    y=[4057],\n",
       "    train_mask=[4057],\n",
       "    val_mask=[4057],\n",
       "    test_mask=[4057]\n",
       "  },\n",
       "  \u001b[1mpaper\u001b[0m={ x=[14328, 4231] },\n",
       "  \u001b[1mterm\u001b[0m={ x=[7723, 50] },\n",
       "  \u001b[1mconference\u001b[0m={ num_nodes=20 },\n",
       "  \u001b[1m(author, to, paper)\u001b[0m={ edge_index=[2, 19645] },\n",
       "  \u001b[1m(paper, to, author)\u001b[0m={ edge_index=[2, 19645] },\n",
       "  \u001b[1m(paper, to, term)\u001b[0m={ edge_index=[2, 85810] },\n",
       "  \u001b[1m(paper, to, conference)\u001b[0m={ edge_index=[2, 14328] },\n",
       "  \u001b[1m(term, to, paper)\u001b[0m={ edge_index=[2, 85810] },\n",
       "  \u001b[1m(conference, to, paper)\u001b[0m={ edge_index=[2, 14328] }\n",
       ")"
      ]
     },
     "execution_count": 2,
     "metadata": {},
     "output_type": "execute_result"
    }
   ],
   "source": [
    "DBLP(root=\"../data/DBLP\")[0]"
   ]
  },
  {
   "cell_type": "code",
   "execution_count": 3,
   "id": "c28bc0fe",
   "metadata": {},
   "outputs": [],
   "source": [
    "device = torch.device('cuda' if torch.cuda.is_available() else 'cpu')\n",
    "\n",
    "transform = T.Compose([\n",
    "    T.ToDevice(device),\n",
    "    T.RemoveIsolatedNodes(),\n",
    "    T.RandomLinkSplit(\n",
    "        num_val=0.05, \n",
    "        num_test=0.1, \n",
    "        is_undirected=True, \n",
    "        add_negative_train_samples=False,\n",
    "        edge_types=[(\"paper\", \"to\", \"author\")]\n",
    "    ),\n",
    "    T.ToUndirected(),\n",
    "])\n",
    "\n",
    "dataset = DBLP(root=\"../data/DBLP\", transform=transform)\n",
    "\n",
    "train_data, val_data, test_data = dataset[0]\n",
    "\n",
    "for data in train_data, val_data, test_data:\n",
    "    del data[\"term\"]\n",
    "    del data[(\"paper\", \"to\", \"term\")]\n",
    "    del data[(\"term\", \"to\", \"paper\")]\n",
    "    del data[(\"author\", \"to\", \"paper\")]\n",
    "    del data[(\"conference\", \"to\", \"paper\")]\n",
    "    \n",
    "    del data[(\"paper\", \"rev_to\", \"author\")]\n",
    "    del data[(\"term\", \"rev_to\", \"paper\")]\n",
    "    del data[(\"paper\", \"rev_to\", \"term\")]\n",
    "    del data[(\"paper\", \"rev_to\", \"conference\")]\n",
    "    \n",
    "    data[\"conference\"].x = torch.ones((20, 1))"
   ]
  },
  {
   "cell_type": "code",
   "execution_count": 4,
   "id": "74e0ba2b",
   "metadata": {},
   "outputs": [
    {
     "name": "stdout",
     "output_type": "stream",
     "text": [
      "HeteroData(\n",
      "  \u001b[1mauthor\u001b[0m={\n",
      "    x=[4057, 334],\n",
      "    y=[4057],\n",
      "    train_mask=[4057],\n",
      "    val_mask=[4057],\n",
      "    test_mask=[4057]\n",
      "  },\n",
      "  \u001b[1mpaper\u001b[0m={ x=[14328, 4231] },\n",
      "  \u001b[1mconference\u001b[0m={\n",
      "    num_nodes=20,\n",
      "    x=[20, 1]\n",
      "  },\n",
      "  \u001b[1m(paper, to, author)\u001b[0m={\n",
      "    edge_index=[2, 16699],\n",
      "    edge_label=[16699],\n",
      "    edge_label_index=[2, 16699]\n",
      "  },\n",
      "  \u001b[1m(paper, to, conference)\u001b[0m={ edge_index=[2, 14328] },\n",
      "  \u001b[1m(author, rev_to, paper)\u001b[0m={\n",
      "    edge_index=[2, 16699],\n",
      "    edge_label=[16699]\n",
      "  },\n",
      "  \u001b[1m(conference, rev_to, paper)\u001b[0m={ edge_index=[2, 14328] }\n",
      ")\n",
      "HeteroData(\n",
      "  \u001b[1mauthor\u001b[0m={\n",
      "    x=[4057, 334],\n",
      "    y=[4057],\n",
      "    train_mask=[4057],\n",
      "    val_mask=[4057],\n",
      "    test_mask=[4057]\n",
      "  },\n",
      "  \u001b[1mpaper\u001b[0m={ x=[14328, 4231] },\n",
      "  \u001b[1mconference\u001b[0m={\n",
      "    num_nodes=20,\n",
      "    x=[20, 1]\n",
      "  },\n",
      "  \u001b[1m(paper, to, author)\u001b[0m={\n",
      "    edge_index=[2, 16699],\n",
      "    edge_label=[1964],\n",
      "    edge_label_index=[2, 1964]\n",
      "  },\n",
      "  \u001b[1m(paper, to, conference)\u001b[0m={ edge_index=[2, 14328] },\n",
      "  \u001b[1m(author, rev_to, paper)\u001b[0m={ edge_index=[2, 16699] },\n",
      "  \u001b[1m(conference, rev_to, paper)\u001b[0m={ edge_index=[2, 14328] }\n",
      ")\n",
      "HeteroData(\n",
      "  \u001b[1mauthor\u001b[0m={\n",
      "    x=[4057, 334],\n",
      "    y=[4057],\n",
      "    train_mask=[4057],\n",
      "    val_mask=[4057],\n",
      "    test_mask=[4057]\n",
      "  },\n",
      "  \u001b[1mpaper\u001b[0m={ x=[14328, 4231] },\n",
      "  \u001b[1mconference\u001b[0m={\n",
      "    num_nodes=20,\n",
      "    x=[20, 1]\n",
      "  },\n",
      "  \u001b[1m(paper, to, author)\u001b[0m={\n",
      "    edge_index=[2, 17681],\n",
      "    edge_label=[3928],\n",
      "    edge_label_index=[2, 3928]\n",
      "  },\n",
      "  \u001b[1m(paper, to, conference)\u001b[0m={ edge_index=[2, 14328] },\n",
      "  \u001b[1m(author, rev_to, paper)\u001b[0m={ edge_index=[2, 17681] },\n",
      "  \u001b[1m(conference, rev_to, paper)\u001b[0m={ edge_index=[2, 14328] }\n",
      ")\n"
     ]
    }
   ],
   "source": [
    "print(train_data)\n",
    "print(val_data)\n",
    "print(test_data)"
   ]
  },
  {
   "cell_type": "markdown",
   "id": "f15c1c21",
   "metadata": {},
   "source": [
    "## Prediction"
   ]
  },
  {
   "cell_type": "code",
   "execution_count": 5,
   "id": "e03cbce8",
   "metadata": {},
   "outputs": [],
   "source": [
    "from torch import nn\n",
    "import torch.nn.functional as F\n",
    "\n",
    "\n",
    "class Encoder(torch.nn.Module):\n",
    "    def __init__(self, hidden_channels, out_channels):\n",
    "        super().__init__()\n",
    "        self.conv1 = SAGEConv((-1, -1), hidden_channels)\n",
    "        self.conv2 = SAGEConv((-1, -1), out_channels)\n",
    "\n",
    "    def forward(self, x, edge_index):\n",
    "        x = self.conv1(x, edge_index).relu()\n",
    "        return self.conv2(x, edge_index)\n",
    "\n",
    "    \n",
    "class SimpleNet(torch.nn.Module):\n",
    "    def __init__(self, hidden_channels, out_channels, metadata):\n",
    "        super().__init__()\n",
    "        self.encoder = to_hetero(Encoder(hidden_channels=hidden_channels, out_channels=out_channels), metadata)\n",
    "    \n",
    "    def encode(self, x_dict, edge_index_dict):\n",
    "        return self.encoder(x_dict, edge_index_dict)\n",
    "    \n",
    "    def decode(self, z1, z2, edge_label_index):\n",
    "        x1 = z1[edge_label_index[0]]\n",
    "        x2 = z2[edge_label_index[1]]\n",
    "        return (x1 * x2).sum(dim=-1)\n",
    "    \n",
    "    \n",
    "class Net(torch.nn.Module):\n",
    "    def __init__(self, hidden_channels, out_channels, metadata):\n",
    "        super().__init__()\n",
    "        self.encoder = to_hetero(Encoder(hidden_channels=hidden_channels, out_channels=out_channels), metadata)\n",
    "        \n",
    "        self.W1 = nn.Linear(out_channels * 2, out_channels)\n",
    "        self.W2 = nn.Linear(out_channels, 1)\n",
    "        \n",
    "    def encode(self, x_dict, edge_index_dict):\n",
    "        return self.encoder(x_dict, edge_index_dict)\n",
    "    \n",
    "    def decode(self, z1, z2, edge_label_index):\n",
    "        z_forward = torch.cat((z1[edge_label_index[0]], z2[edge_label_index[1]]), dim=1)\n",
    "        out1 = self.W2(F.relu(self.W1(z_forward)).squeeze()).squeeze()\n",
    "        \n",
    "        z_reverse = torch.cat((z2[edge_label_index[1]], z1[edge_label_index[0]]), dim=1)\n",
    "        out2 = self.W2(F.relu(self.W1(z_reverse)).squeeze()).squeeze()\n",
    "        \n",
    "        return (out1 + out2) / 2\n",
    "    \n",
    "    \n",
    "simple_model = SimpleNet(hidden_channels=128, out_channels=32, metadata=train_data.metadata()).to(device)\n",
    "simple_optimizer = torch.optim.Adam(params=simple_model.parameters(), lr=1e-3, weight_decay=1e-1)\n",
    "\n",
    "model = Net(hidden_channels=128, out_channels=32, metadata=train_data.metadata()).to(device)\n",
    "optimizer = torch.optim.Adam(params=model.parameters(), lr=1e-3, weight_decay=1e-2)\n",
    "\n",
    "criterion = torch.nn.BCEWithLogitsLoss()"
   ]
  },
  {
   "cell_type": "code",
   "execution_count": 6,
   "id": "89d020eb",
   "metadata": {},
   "outputs": [],
   "source": [
    "def train(model, optimizer, data, key):\n",
    "    start, _, end = key\n",
    "    model.train()\n",
    "    optimizer.zero_grad()\n",
    "    z = model.encode(data.x_dict, data.edge_index_dict)\n",
    "\n",
    "    # We perform a new round of negative sampling for every training epoch:\n",
    "    neg_edge_index = negative_sampling(\n",
    "        edge_index=data.edge_index_dict[key], \n",
    "        num_nodes=(data.x_dict[start].shape[0], data.x_dict[end].shape[0]),\n",
    "        num_neg_samples=data.edge_label_index_dict[key].shape[1], \n",
    "        method='sparse'\n",
    "    )\n",
    "    \n",
    "    edge_label_index = data.edge_label_index_dict[key]\n",
    "    edge_label_index = torch.cat([edge_label_index, neg_edge_index], dim=-1)\n",
    "    \n",
    "    edge_label = data.edge_label_dict[key]\n",
    "    edge_label = torch.cat([edge_label, edge_label.new_zeros(neg_edge_index.size(1))], dim=0)\n",
    "    \n",
    "    out = model.decode(z[start], z[end], edge_label_index)\n",
    "    loss = criterion(out, edge_label)\n",
    "    \n",
    "    loss.backward()\n",
    "    optimizer.step()\n",
    "    \n",
    "    return loss\n",
    "\n",
    "\n",
    "@torch.no_grad()\n",
    "def test(model, data, key):\n",
    "    start, _, end = key\n",
    "    model.eval()\n",
    "    z = model.encode(data.x_dict, data.edge_index_dict)\n",
    "    out = model.decode(z[start], z[end], data.edge_label_index_dict[key]).view(-1).sigmoid()\n",
    "    a, b = data.edge_label_dict[key].cpu().numpy(), out.cpu().numpy()\n",
    "    c = (out > 0.5).float().cpu().numpy()\n",
    "        \n",
    "    return roc_auc_score(a, b), accuracy_score(a, c)"
   ]
  },
  {
   "cell_type": "code",
   "execution_count": 7,
   "id": "dab16a6e",
   "metadata": {},
   "outputs": [
    {
     "name": "stdout",
     "output_type": "stream",
     "text": [
      "Epoch: 001, Loss: 0.7300, Val: 0.6557 0.5168, Test: 0.6502 0.5303\n",
      "Epoch: 002, Loss: 0.8422, Val: 0.6656 0.5545, Test: 0.6435 0.5481\n",
      "Epoch: 003, Loss: 0.6663, Val: 0.6648 0.5010, Test: 0.6419 0.5013\n",
      "Epoch: 004, Loss: 0.7530, Val: 0.7079 0.5550, Test: 0.6894 0.5642\n",
      "Epoch: 005, Loss: 0.6658, Val: 0.7469 0.6762, Test: 0.7395 0.6726\n",
      "Epoch: 006, Loss: 0.6109, Val: 0.7624 0.6441, Test: 0.7600 0.6451\n",
      "Epoch: 007, Loss: 0.6471, Val: 0.7701 0.6298, Test: 0.7690 0.6372\n",
      "Epoch: 008, Loss: 0.6651, Val: 0.7735 0.6558, Test: 0.7726 0.6568\n",
      "Epoch: 009, Loss: 0.6287, Val: 0.7752 0.6838, Test: 0.7717 0.6861\n",
      "Epoch: 010, Loss: 0.6006, Val: 0.7728 0.6899, Test: 0.7680 0.6940\n",
      "Epoch: 011, Loss: 0.6032, Val: 0.7720 0.6767, Test: 0.7651 0.6861\n",
      "Epoch: 012, Loss: 0.6192, Val: 0.7743 0.6731, Test: 0.7680 0.6917\n",
      "Epoch: 013, Loss: 0.6183, Val: 0.7801 0.6935, Test: 0.7759 0.6983\n",
      "Epoch: 014, Loss: 0.6031, Val: 0.7854 0.6991, Test: 0.7838 0.7014\n",
      "Epoch: 015, Loss: 0.5901, Val: 0.7894 0.6869, Test: 0.7894 0.6879\n",
      "Epoch: 016, Loss: 0.5915, Val: 0.7919 0.6843, Test: 0.7926 0.6769\n",
      "Epoch: 017, Loss: 0.5983, Val: 0.7932 0.6828, Test: 0.7942 0.6736\n",
      "Epoch: 018, Loss: 0.6025, Val: 0.7939 0.6864, Test: 0.7947 0.6810\n",
      "Epoch: 019, Loss: 0.5961, Val: 0.7936 0.6909, Test: 0.7941 0.6889\n",
      "Epoch: 020, Loss: 0.5890, Val: 0.7929 0.6991, Test: 0.7923 0.7026\n",
      "Epoch: 021, Loss: 0.5837, Val: 0.7922 0.7149, Test: 0.7903 0.7062\n",
      "Epoch: 022, Loss: 0.5888, Val: 0.7919 0.7082, Test: 0.7889 0.7121\n",
      "Epoch: 023, Loss: 0.5907, Val: 0.7926 0.7103, Test: 0.7894 0.7131\n",
      "Epoch: 024, Loss: 0.5903, Val: 0.7939 0.7164, Test: 0.7917 0.7080\n",
      "Epoch: 025, Loss: 0.5851, Val: 0.7953 0.7057, Test: 0.7944 0.7026\n",
      "Epoch: 026, Loss: 0.5842, Val: 0.7967 0.6976, Test: 0.7967 0.6937\n",
      "Epoch: 027, Loss: 0.5833, Val: 0.7976 0.6955, Test: 0.7981 0.6869\n",
      "Epoch: 028, Loss: 0.5845, Val: 0.7982 0.6940, Test: 0.7987 0.6838\n",
      "Epoch: 029, Loss: 0.5868, Val: 0.7981 0.6940, Test: 0.7985 0.6861\n",
      "Epoch: 030, Loss: 0.5847, Val: 0.7978 0.7001, Test: 0.7975 0.6932\n",
      "Epoch: 031, Loss: 0.5816, Val: 0.7973 0.7098, Test: 0.7961 0.6986\n",
      "Epoch: 032, Loss: 0.5772, Val: 0.7967 0.7138, Test: 0.7947 0.7029\n",
      "Epoch: 033, Loss: 0.5781, Val: 0.7966 0.7179, Test: 0.7941 0.7042\n",
      "Epoch: 034, Loss: 0.5793, Val: 0.7969 0.7108, Test: 0.7948 0.7026\n",
      "Epoch: 035, Loss: 0.5791, Val: 0.7979 0.7088, Test: 0.7965 0.6988\n",
      "Epoch: 036, Loss: 0.5743, Val: 0.7987 0.6955, Test: 0.7982 0.6902\n",
      "Epoch: 037, Loss: 0.5741, Val: 0.7994 0.6955, Test: 0.7994 0.6861\n",
      "Epoch: 038, Loss: 0.5746, Val: 0.7997 0.6909, Test: 0.8000 0.6841\n",
      "Epoch: 039, Loss: 0.5767, Val: 0.7998 0.6935, Test: 0.7997 0.6853\n",
      "Epoch: 040, Loss: 0.5736, Val: 0.7997 0.6940, Test: 0.7989 0.6886\n",
      "Epoch: 041, Loss: 0.5715, Val: 0.7994 0.7057, Test: 0.7978 0.6942\n",
      "Epoch: 042, Loss: 0.5713, Val: 0.7992 0.7077, Test: 0.7970 0.6955\n",
      "Epoch: 043, Loss: 0.5732, Val: 0.7994 0.7062, Test: 0.7972 0.6935\n",
      "Epoch: 044, Loss: 0.5736, Val: 0.8001 0.7062, Test: 0.7981 0.6917\n",
      "Epoch: 045, Loss: 0.5708, Val: 0.8008 0.6965, Test: 0.7993 0.6876\n",
      "Epoch: 046, Loss: 0.5729, Val: 0.8014 0.6970, Test: 0.8001 0.6869\n",
      "Epoch: 047, Loss: 0.5717, Val: 0.8016 0.6981, Test: 0.8003 0.6848\n",
      "Epoch: 048, Loss: 0.5725, Val: 0.8015 0.6981, Test: 0.7999 0.6853\n",
      "Epoch: 049, Loss: 0.5704, Val: 0.8011 0.7001, Test: 0.7990 0.6902\n",
      "Epoch: 050, Loss: 0.5706, Val: 0.8006 0.7062, Test: 0.7980 0.6897\n",
      "Final Test: 0.8003 0.6848\n"
     ]
    }
   ],
   "source": [
    "key = (\"paper\", \"to\", \"author\")\n",
    "start, _, end = key\n",
    "\n",
    "best_val_auc = final_test_auc = final_test_acc = 0\n",
    "for epoch in range(1, 51):\n",
    "    loss = train(simple_model, simple_optimizer, train_data, key)\n",
    "    val_auc, val_acc = test(simple_model, val_data, key)\n",
    "    test_auc, test_acc = test(simple_model, test_data, key)\n",
    "    if val_auc > best_val_auc:\n",
    "        best_val_auc = val_auc\n",
    "        final_test_auc = test_auc\n",
    "        final_test_acc = test_acc\n",
    "    if epoch % 1 == 0:\n",
    "        print(f'Epoch: {epoch:03d}, Loss: {loss:.4f}, Val: {val_auc:.4f} {val_acc:.4f}, Test: {test_auc:.4f} {test_acc:.4f}')\n",
    "\n",
    "print(f'Final Test: {final_test_auc:.4f} {final_test_acc:.4f}')\n",
    "\n",
    "simple_z = simple_model.encode(test_data.x_dict, test_data.edge_index_dict)\n",
    "simple_final_edge_index = simple_model.decode(simple_z[start], simple_z[end], test_data.edge_label_index_dict[key])"
   ]
  },
  {
   "cell_type": "code",
   "execution_count": 8,
   "id": "ab773d26",
   "metadata": {},
   "outputs": [
    {
     "name": "stdout",
     "output_type": "stream",
     "text": [
      "Epoch: 001, Loss: 0.6972, Val: 0.4650 0.4990, Test: 0.4589 0.5013\n",
      "Epoch: 002, Loss: 0.6924, Val: 0.4974 0.4903, Test: 0.4833 0.4661\n",
      "Epoch: 003, Loss: 0.6907, Val: 0.5351 0.4893, Test: 0.5185 0.4891\n",
      "Epoch: 004, Loss: 0.6900, Val: 0.5615 0.4980, Test: 0.5444 0.4975\n",
      "Epoch: 005, Loss: 0.6893, Val: 0.5773 0.4863, Test: 0.5608 0.4779\n",
      "Epoch: 006, Loss: 0.6883, Val: 0.5890 0.4883, Test: 0.5727 0.4801\n",
      "Epoch: 007, Loss: 0.6871, Val: 0.5989 0.4908, Test: 0.5827 0.4809\n",
      "Epoch: 008, Loss: 0.6859, Val: 0.6074 0.5351, Test: 0.5903 0.5232\n",
      "Epoch: 009, Loss: 0.6846, Val: 0.6132 0.5804, Test: 0.5960 0.5728\n",
      "Epoch: 010, Loss: 0.6835, Val: 0.6199 0.6029, Test: 0.6022 0.5860\n",
      "Epoch: 011, Loss: 0.6820, Val: 0.6248 0.6120, Test: 0.6069 0.5952\n",
      "Epoch: 012, Loss: 0.6805, Val: 0.6295 0.6074, Test: 0.6109 0.5934\n",
      "Epoch: 013, Loss: 0.6789, Val: 0.6356 0.6085, Test: 0.6171 0.5970\n",
      "Epoch: 014, Loss: 0.6773, Val: 0.6416 0.6054, Test: 0.6232 0.5983\n",
      "Epoch: 015, Loss: 0.6750, Val: 0.6485 0.6110, Test: 0.6302 0.6013\n",
      "Epoch: 016, Loss: 0.6731, Val: 0.6558 0.6273, Test: 0.6380 0.6125\n",
      "Epoch: 017, Loss: 0.6705, Val: 0.6641 0.6400, Test: 0.6465 0.6212\n",
      "Epoch: 018, Loss: 0.6676, Val: 0.6723 0.6502, Test: 0.6553 0.6362\n",
      "Epoch: 019, Loss: 0.6650, Val: 0.6807 0.6527, Test: 0.6640 0.6421\n",
      "Epoch: 020, Loss: 0.6615, Val: 0.6876 0.6543, Test: 0.6714 0.6479\n",
      "Epoch: 021, Loss: 0.6583, Val: 0.6931 0.6589, Test: 0.6770 0.6520\n",
      "Epoch: 022, Loss: 0.6537, Val: 0.6987 0.6675, Test: 0.6828 0.6550\n",
      "Epoch: 023, Loss: 0.6493, Val: 0.7061 0.6711, Test: 0.6905 0.6609\n",
      "Epoch: 024, Loss: 0.6442, Val: 0.7140 0.6777, Test: 0.6985 0.6652\n",
      "Epoch: 025, Loss: 0.6398, Val: 0.7221 0.6828, Test: 0.7070 0.6657\n",
      "Epoch: 026, Loss: 0.6338, Val: 0.7301 0.6813, Test: 0.7154 0.6688\n",
      "Epoch: 027, Loss: 0.6291, Val: 0.7372 0.6823, Test: 0.7232 0.6718\n",
      "Epoch: 028, Loss: 0.6216, Val: 0.7432 0.6853, Test: 0.7298 0.6726\n",
      "Epoch: 029, Loss: 0.6163, Val: 0.7485 0.6858, Test: 0.7353 0.6734\n",
      "Epoch: 030, Loss: 0.6090, Val: 0.7535 0.6848, Test: 0.7409 0.6757\n",
      "Epoch: 031, Loss: 0.6030, Val: 0.7586 0.6848, Test: 0.7463 0.6790\n",
      "Epoch: 032, Loss: 0.5973, Val: 0.7632 0.6884, Test: 0.7515 0.6792\n",
      "Epoch: 033, Loss: 0.5890, Val: 0.7668 0.6909, Test: 0.7554 0.6800\n",
      "Epoch: 034, Loss: 0.5852, Val: 0.7691 0.6940, Test: 0.7582 0.6856\n",
      "Epoch: 035, Loss: 0.5756, Val: 0.7707 0.6991, Test: 0.7600 0.6841\n",
      "Epoch: 036, Loss: 0.5706, Val: 0.7719 0.7082, Test: 0.7614 0.6897\n",
      "Epoch: 037, Loss: 0.5682, Val: 0.7731 0.7093, Test: 0.7629 0.6920\n",
      "Epoch: 038, Loss: 0.5670, Val: 0.7742 0.7103, Test: 0.7641 0.6930\n",
      "Epoch: 039, Loss: 0.5595, Val: 0.7748 0.7118, Test: 0.7647 0.6955\n",
      "Epoch: 040, Loss: 0.5597, Val: 0.7750 0.7103, Test: 0.7649 0.6991\n",
      "Epoch: 041, Loss: 0.5567, Val: 0.7750 0.7108, Test: 0.7649 0.6996\n",
      "Epoch: 042, Loss: 0.5533, Val: 0.7750 0.7113, Test: 0.7648 0.6998\n",
      "Epoch: 043, Loss: 0.5523, Val: 0.7747 0.7118, Test: 0.7645 0.7001\n",
      "Epoch: 044, Loss: 0.5491, Val: 0.7745 0.7133, Test: 0.7643 0.7004\n",
      "Epoch: 045, Loss: 0.5459, Val: 0.7742 0.7133, Test: 0.7639 0.7004\n",
      "Epoch: 046, Loss: 0.5486, Val: 0.7738 0.7149, Test: 0.7635 0.7004\n",
      "Epoch: 047, Loss: 0.5458, Val: 0.7734 0.7164, Test: 0.7631 0.7006\n",
      "Epoch: 048, Loss: 0.5461, Val: 0.7728 0.7164, Test: 0.7625 0.7011\n",
      "Epoch: 049, Loss: 0.5434, Val: 0.7721 0.7164, Test: 0.7619 0.7011\n",
      "Epoch: 050, Loss: 0.5416, Val: 0.7716 0.7154, Test: 0.7614 0.7011\n",
      "Final Test: 0.7649 0.6996\n"
     ]
    }
   ],
   "source": [
    "key = (\"paper\", \"to\", \"author\")\n",
    "start, _, end = key\n",
    "\n",
    "best_val_auc = final_test_auc = final_test_acc = 0\n",
    "for epoch in range(1, 51):\n",
    "    loss = train(model, optimizer, train_data, key)\n",
    "    val_auc, val_acc = test(model, val_data, key)\n",
    "    test_auc, test_acc = test(model, test_data, key)\n",
    "    if val_auc > best_val_auc:\n",
    "        best_val_auc = val_auc\n",
    "        final_test_auc = test_auc\n",
    "        final_test_acc = test_acc\n",
    "    if epoch % 1 == 0:\n",
    "        print(f'Epoch: {epoch:03d}, Loss: {loss:.4f}, Val: {val_auc:.4f} {val_acc:.4f}, Test: {test_auc:.4f} {test_acc:.4f}')\n",
    "\n",
    "print(f'Final Test: {final_test_auc:.4f} {final_test_acc:.4f}')\n",
    "\n",
    "z = model.encode(test_data.x_dict, test_data.edge_index_dict)\n",
    "final_edge_index = model.decode(z[start], z[end], test_data.edge_label_index_dict[key])"
   ]
  },
  {
   "cell_type": "markdown",
   "id": "a229e573",
   "metadata": {},
   "source": [
    "## SubgraphX"
   ]
  },
  {
   "cell_type": "code",
   "execution_count": 9,
   "id": "a60dc185",
   "metadata": {},
   "outputs": [],
   "source": [
    "from datetime import datetime"
   ]
  },
  {
   "cell_type": "code",
   "execution_count": 10,
   "id": "706acc81",
   "metadata": {},
   "outputs": [
    {
     "data": {
      "text/plain": [
       "tensor([12032,  2955])"
      ]
     },
     "execution_count": 10,
     "metadata": {},
     "output_type": "execute_result"
    }
   ],
   "source": [
    "test_data.edge_label_index_dict[(\"paper\", \"to\", \"author\")][:, 12]"
   ]
  },
  {
   "cell_type": "code",
   "execution_count": 11,
   "id": "dca54b63",
   "metadata": {},
   "outputs": [
    {
     "name": "stdout",
     "output_type": "stream",
     "text": [
      "torch.Size([2, 17681])\n",
      "torch.Size([2, 14328])\n"
     ]
    }
   ],
   "source": [
    "node_1 = 12032\n",
    "node_2 = 2955\n",
    "\n",
    "paper_to_author_index = test_data.edge_index_dict[(\"paper\", \"to\", \"author\")]\n",
    "paper_to_conference_index = test_data.edge_index_dict[(\"paper\", \"to\", \"conference\")]\n",
    "\n",
    "print(paper_to_author_index.shape)\n",
    "print(paper_to_conference_index.shape)"
   ]
  },
  {
   "cell_type": "code",
   "execution_count": 12,
   "id": "3b28611b",
   "metadata": {},
   "outputs": [
    {
     "name": "stdout",
     "output_type": "stream",
     "text": [
      "paper coauthors set()\n",
      "paper conference {16}\n",
      "author papers {4480, 13507, 12862, 12031}\n"
     ]
    }
   ],
   "source": [
    "node_1_author_neighbors = set(paper_to_author_index[:, paper_to_author_index[0] == node_1][1].cpu().numpy())\n",
    "node_1_conference_neighbors = set(paper_to_conference_index[:, paper_to_conference_index[0] == node_1][1].cpu().numpy())\n",
    "\n",
    "print(\"paper coauthors\", node_1_author_neighbors)\n",
    "print(\"paper conference\", node_1_conference_neighbors)\n",
    "\n",
    "node_2_paper_neighbors = set(paper_to_author_index[:, paper_to_author_index[1] == node_2][0].cpu().numpy())\n",
    "\n",
    "print(\"author papers\", node_2_paper_neighbors)"
   ]
  },
  {
   "cell_type": "code",
   "execution_count": 13,
   "id": "5474dde3",
   "metadata": {
    "scrolled": true
   },
   "outputs": [
    {
     "name": "stderr",
     "output_type": "stream",
     "text": [
      "C:\\Users\\Abhijit\\AppData\\Local\\Temp\\ipykernel_20900\\2899712078.py:8: UserWarning: masked_fill_ received a mask with dtype torch.uint8, this behavior is now deprecated,please use a mask with dtype torch.bool instead. (Triggered internally at  C:\\actions-runner\\_work\\pytorch\\pytorch\\builder\\windows\\pytorch\\aten\\src\\ATen\\native\\TensorAdvancedIndexing.cpp:1582.)\n",
      "  S_filter[(sub_edge_mask) & (np.random.random(sub_edge_mask.shape[0]) > 0.5)] = False\n"
     ]
    },
    {
     "name": "stdout",
     "output_type": "stream",
     "text": [
      "4480 \t 0.02378 \t 0.01707 \t 1.39276\n",
      "13507 \t 0.41612 \t 0.38254 \t 1.08779\n",
      "12862 \t 0.80234 \t 0.4506 \t 1.7806\n",
      "12031 \t -0.06213 \t 0.01119 \t -5.55069\n"
     ]
    }
   ],
   "source": [
    "T = 5\n",
    "for neighbor in node_2_paper_neighbors:\n",
    "    pred_diffs = []\n",
    "    sub_edge_mask = paper_to_author_index[1] == node_2\n",
    "    for t in range(T):\n",
    "        S_filter = torch.zeros(paper_to_author_index.shape[1], dtype=bool)\n",
    "        S_filter[sub_edge_mask] = True\n",
    "        S_filter[(sub_edge_mask) & (np.random.random(sub_edge_mask.shape[0]) > 0.5)] = False\n",
    "        S_filter[(paper_to_author_index[0] == neighbor)] = False\n",
    "        \n",
    "        temp_edge_index_dict = {k: v for k, v in test_data.edge_index_dict.items()}\n",
    "        temp_edge_index_dict[(\"paper\", \"to\", \"author\")] = paper_to_author_index[:, S_filter]\n",
    "        \n",
    "        old_z = model.encode(test_data.x_dict, temp_edge_index_dict)\n",
    "        old_pred = model.decode(old_z[\"paper\"], old_z[\"author\"], torch.tensor([[node_1], [node_2]]))\n",
    "        \n",
    "        S_filter[(paper_to_author_index[0] == neighbor)] = True\n",
    "        temp_edge_index_dict = {k: v for k, v in test_data.edge_index_dict.items()}\n",
    "        temp_edge_index_dict[(\"paper\", \"to\", \"author\")] = paper_to_author_index[:, S_filter]\n",
    "        \n",
    "        new_z = model.encode(test_data.x_dict, temp_edge_index_dict)\n",
    "        new_pred = model.decode(new_z[\"paper\"], new_z[\"author\"], torch.tensor([[node_1], [node_2]]))\n",
    "        \n",
    "        pred_diff = (new_pred - old_pred)\n",
    "        pred_diffs.append(pred_diff.item())\n",
    "    diff_avg, diff_std = sum(pred_diffs) / len(pred_diffs), statistics.stdev(pred_diffs) / np.sqrt(T)\n",
    "    print(neighbor, \"\\t\", round(diff_avg, 5), \"\\t\", round(diff_std, 5), \"\\t\", round(diff_avg / diff_std, 5))"
   ]
  }
 ],
 "metadata": {
  "kernelspec": {
   "display_name": "Python 3 (ipykernel)",
   "language": "python",
   "name": "python3"
  },
  "language_info": {
   "codemirror_mode": {
    "name": "ipython",
    "version": 3
   },
   "file_extension": ".py",
   "mimetype": "text/x-python",
   "name": "python",
   "nbconvert_exporter": "python",
   "pygments_lexer": "ipython3",
   "version": "3.8.6"
  }
 },
 "nbformat": 4,
 "nbformat_minor": 5
}
