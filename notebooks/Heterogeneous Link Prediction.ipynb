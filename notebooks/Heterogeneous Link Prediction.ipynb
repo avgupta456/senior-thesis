{
 "cells": [
  {
   "cell_type": "markdown",
   "id": "0c9f930a",
   "metadata": {},
   "source": [
    "## Dependencies"
   ]
  },
  {
   "cell_type": "code",
   "execution_count": 1,
   "id": "dab1594f",
   "metadata": {},
   "outputs": [
    {
     "name": "stderr",
     "output_type": "stream",
     "text": [
      "C:\\Users\\Abhijit\\Documents\\GitHub\\cpsc490\\.venv\\lib\\site-packages\\tqdm\\auto.py:22: TqdmWarning: IProgress not found. Please update jupyter and ipywidgets. See https://ipywidgets.readthedocs.io/en/stable/user_install.html\n",
      "  from .autonotebook import tqdm as notebook_tqdm\n"
     ]
    }
   ],
   "source": [
    "from tqdm import tqdm\n",
    "import statistics\n",
    "\n",
    "import torch\n",
    "import matplotlib.pyplot as plt\n",
    "import networkx as nx\n",
    "import numpy as np\n",
    "from sklearn.metrics import roc_auc_score, accuracy_score\n",
    "\n",
    "import torch_geometric.transforms as T\n",
    "from torch_geometric.datasets import SNAPDataset, DBLP, IMDB\n",
    "from torch_geometric.nn import GCNConv, SAGEConv, GATConv, GINConv, to_hetero\n",
    "from torch_geometric.utils import negative_sampling, to_networkx\n",
    "\n",
    "torch.manual_seed(0)\n",
    "\n",
    "%matplotlib notebook"
   ]
  },
  {
   "cell_type": "markdown",
   "id": "c3a66043",
   "metadata": {},
   "source": [
    "## Data"
   ]
  },
  {
   "cell_type": "code",
   "execution_count": 2,
   "id": "a9d6bbbe",
   "metadata": {},
   "outputs": [
    {
     "data": {
      "text/plain": [
       "HeteroData(\n",
       "  \u001b[1mmovie\u001b[0m={\n",
       "    x=[4278, 3066],\n",
       "    y=[4278],\n",
       "    train_mask=[4278],\n",
       "    val_mask=[4278],\n",
       "    test_mask=[4278]\n",
       "  },\n",
       "  \u001b[1mdirector\u001b[0m={ x=[2081, 3066] },\n",
       "  \u001b[1mactor\u001b[0m={ x=[5257, 3066] },\n",
       "  \u001b[1m(movie, to, director)\u001b[0m={ edge_index=[2, 4278] },\n",
       "  \u001b[1m(movie, to, actor)\u001b[0m={ edge_index=[2, 12828] },\n",
       "  \u001b[1m(director, to, movie)\u001b[0m={ edge_index=[2, 4278] },\n",
       "  \u001b[1m(actor, to, movie)\u001b[0m={ edge_index=[2, 12828] }\n",
       ")"
      ]
     },
     "execution_count": 2,
     "metadata": {},
     "output_type": "execute_result"
    }
   ],
   "source": [
    "IMDB(root=\"../data/IMDB\")[0]"
   ]
  },
  {
   "cell_type": "code",
   "execution_count": 3,
   "id": "c28bc0fe",
   "metadata": {},
   "outputs": [],
   "source": [
    "device = torch.device('cuda' if torch.cuda.is_available() else 'cpu')\n",
    "\n",
    "transform = T.Compose([\n",
    "    T.ToDevice(device),\n",
    "    T.RemoveIsolatedNodes(),\n",
    "    T.RandomLinkSplit(\n",
    "        num_val=0.05, \n",
    "        num_test=0.1, \n",
    "        is_undirected=True, \n",
    "        add_negative_train_samples=False,\n",
    "        edge_types=[(\"movie\", \"to\", \"actor\")]\n",
    "    ),\n",
    "    T.ToUndirected(),\n",
    "])\n",
    "\n",
    "dataset = IMDB(root=\"../data/IMDB\", transform=transform)\n",
    "\n",
    "train_data, val_data, test_data = dataset[0]\n",
    "\n",
    "for data in train_data, val_data, test_data:\n",
    "    del data[(\"director\", \"to\", \"movie\")]\n",
    "    del data[(\"actor\", \"to\", \"movie\")]\n",
    "    \n",
    "    del data[(\"movie\", \"rev_to\", \"director\")]\n",
    "    del data[(\"movie\", \"rev_to\", \"actor\")]"
   ]
  },
  {
   "cell_type": "code",
   "execution_count": 4,
   "id": "74e0ba2b",
   "metadata": {},
   "outputs": [
    {
     "name": "stdout",
     "output_type": "stream",
     "text": [
      "HeteroData(\n",
      "  \u001b[1mmovie\u001b[0m={\n",
      "    x=[4278, 3066],\n",
      "    y=[4278],\n",
      "    train_mask=[4278],\n",
      "    val_mask=[4278],\n",
      "    test_mask=[4278]\n",
      "  },\n",
      "  \u001b[1mdirector\u001b[0m={ x=[2081, 3066] },\n",
      "  \u001b[1mactor\u001b[0m={ x=[5257, 3066] },\n",
      "  \u001b[1m(movie, to, director)\u001b[0m={ edge_index=[2, 4278] },\n",
      "  \u001b[1m(movie, to, actor)\u001b[0m={\n",
      "    edge_index=[2, 10905],\n",
      "    edge_label=[10905],\n",
      "    edge_label_index=[2, 10905]\n",
      "  },\n",
      "  \u001b[1m(director, rev_to, movie)\u001b[0m={ edge_index=[2, 4278] },\n",
      "  \u001b[1m(actor, rev_to, movie)\u001b[0m={\n",
      "    edge_index=[2, 10905],\n",
      "    edge_label=[10905]\n",
      "  }\n",
      ")\n",
      "HeteroData(\n",
      "  \u001b[1mmovie\u001b[0m={\n",
      "    x=[4278, 3066],\n",
      "    y=[4278],\n",
      "    train_mask=[4278],\n",
      "    val_mask=[4278],\n",
      "    test_mask=[4278]\n",
      "  },\n",
      "  \u001b[1mdirector\u001b[0m={ x=[2081, 3066] },\n",
      "  \u001b[1mactor\u001b[0m={ x=[5257, 3066] },\n",
      "  \u001b[1m(movie, to, director)\u001b[0m={ edge_index=[2, 4278] },\n",
      "  \u001b[1m(movie, to, actor)\u001b[0m={\n",
      "    edge_index=[2, 10905],\n",
      "    edge_label=[1282],\n",
      "    edge_label_index=[2, 1282]\n",
      "  },\n",
      "  \u001b[1m(director, rev_to, movie)\u001b[0m={ edge_index=[2, 4278] },\n",
      "  \u001b[1m(actor, rev_to, movie)\u001b[0m={ edge_index=[2, 10905] }\n",
      ")\n",
      "HeteroData(\n",
      "  \u001b[1mmovie\u001b[0m={\n",
      "    x=[4278, 3066],\n",
      "    y=[4278],\n",
      "    train_mask=[4278],\n",
      "    val_mask=[4278],\n",
      "    test_mask=[4278]\n",
      "  },\n",
      "  \u001b[1mdirector\u001b[0m={ x=[2081, 3066] },\n",
      "  \u001b[1mactor\u001b[0m={ x=[5257, 3066] },\n",
      "  \u001b[1m(movie, to, director)\u001b[0m={ edge_index=[2, 4278] },\n",
      "  \u001b[1m(movie, to, actor)\u001b[0m={\n",
      "    edge_index=[2, 11546],\n",
      "    edge_label=[2564],\n",
      "    edge_label_index=[2, 2564]\n",
      "  },\n",
      "  \u001b[1m(director, rev_to, movie)\u001b[0m={ edge_index=[2, 4278] },\n",
      "  \u001b[1m(actor, rev_to, movie)\u001b[0m={ edge_index=[2, 11546] }\n",
      ")\n"
     ]
    }
   ],
   "source": [
    "print(train_data)\n",
    "print(val_data)\n",
    "print(test_data)"
   ]
  },
  {
   "cell_type": "markdown",
   "id": "f15c1c21",
   "metadata": {},
   "source": [
    "## Prediction"
   ]
  },
  {
   "cell_type": "code",
   "execution_count": 5,
   "id": "e03cbce8",
   "metadata": {},
   "outputs": [],
   "source": [
    "from torch import nn\n",
    "import torch.nn.functional as F\n",
    "\n",
    "\n",
    "class Encoder(torch.nn.Module):\n",
    "    def __init__(self, hidden_channels, out_channels):\n",
    "        super().__init__()\n",
    "        self.conv1 = SAGEConv((-1, -1), hidden_channels)\n",
    "        self.conv2 = SAGEConv((-1, -1), out_channels)\n",
    "\n",
    "    def forward(self, x, edge_index):\n",
    "        x = self.conv1(x, edge_index).relu()\n",
    "        return self.conv2(x, edge_index)\n",
    "\n",
    "    \n",
    "class SimpleNet(torch.nn.Module):\n",
    "    def __init__(self, hidden_channels, out_channels, metadata):\n",
    "        super().__init__()\n",
    "        self.encoder = to_hetero(Encoder(hidden_channels=hidden_channels, out_channels=out_channels), metadata)\n",
    "    \n",
    "    def encode(self, x_dict, edge_index_dict):\n",
    "        return self.encoder(x_dict, edge_index_dict)\n",
    "    \n",
    "    def decode(self, z1, z2, edge_label_index):\n",
    "        x1 = z1[edge_label_index[0]]\n",
    "        x2 = z2[edge_label_index[1]]\n",
    "        return (x1 * x2).sum(dim=-1)\n",
    "    \n",
    "    \n",
    "class Net(torch.nn.Module):\n",
    "    def __init__(self, hidden_channels, out_channels, metadata):\n",
    "        super().__init__()\n",
    "        self.encoder = to_hetero(Encoder(hidden_channels=hidden_channels, out_channels=out_channels), metadata)\n",
    "        \n",
    "        self.W1 = nn.Linear(out_channels * 2, out_channels)\n",
    "        self.W2 = nn.Linear(out_channels, 1)\n",
    "        \n",
    "    def encode(self, x_dict, edge_index_dict):\n",
    "        return self.encoder(x_dict, edge_index_dict)\n",
    "    \n",
    "    def decode(self, z1, z2, edge_label_index):\n",
    "        z_forward = torch.cat((z1[edge_label_index[0]], z2[edge_label_index[1]]), dim=1)\n",
    "        out1 = self.W2(F.relu(self.W1(z_forward)).squeeze()).squeeze()\n",
    "        \n",
    "        z_reverse = torch.cat((z2[edge_label_index[1]], z1[edge_label_index[0]]), dim=1)\n",
    "        out2 = self.W2(F.relu(self.W1(z_reverse)).squeeze()).squeeze()\n",
    "        \n",
    "        return (out1 + out2) / 2\n",
    "    \n",
    "    \n",
    "simple_model = SimpleNet(hidden_channels=128, out_channels=32, metadata=train_data.metadata()).to(device)\n",
    "simple_optimizer = torch.optim.Adam(params=simple_model.parameters(), lr=1e-3, weight_decay=1e-5)\n",
    "\n",
    "model = Net(hidden_channels=128, out_channels=32, metadata=train_data.metadata()).to(device)\n",
    "optimizer = torch.optim.Adam(params=model.parameters(), lr=1e-3, weight_decay=1e-5)\n",
    "\n",
    "criterion = torch.nn.BCEWithLogitsLoss()"
   ]
  },
  {
   "cell_type": "code",
   "execution_count": 6,
   "id": "89d020eb",
   "metadata": {},
   "outputs": [],
   "source": [
    "def train(model, optimizer, data, key):\n",
    "    start, _, end = key\n",
    "    model.train()\n",
    "    optimizer.zero_grad()\n",
    "    z = model.encode(data.x_dict, data.edge_index_dict)\n",
    "\n",
    "    # We perform a new round of negative sampling for every training epoch:\n",
    "    neg_edge_index = negative_sampling(\n",
    "        edge_index=data.edge_index_dict[key], \n",
    "        num_nodes=(data.x_dict[start].shape[0], data.x_dict[end].shape[0]),\n",
    "        num_neg_samples=data.edge_label_index_dict[key].shape[1], \n",
    "        method='sparse'\n",
    "    )\n",
    "    \n",
    "    edge_label_index = data.edge_label_index_dict[key]\n",
    "    edge_label_index = torch.cat([edge_label_index, neg_edge_index], dim=-1)\n",
    "    \n",
    "    edge_label = data.edge_label_dict[key]\n",
    "    edge_label = torch.cat([edge_label, edge_label.new_zeros(neg_edge_index.size(1))], dim=0)\n",
    "    \n",
    "    out = model.decode(z[start], z[end], edge_label_index)\n",
    "    loss = criterion(out, edge_label)\n",
    "    \n",
    "    loss.backward()\n",
    "    optimizer.step()\n",
    "    \n",
    "    return loss\n",
    "\n",
    "\n",
    "@torch.no_grad()\n",
    "def test(model, data, key):\n",
    "    start, _, end = key\n",
    "    model.eval()\n",
    "    z = model.encode(data.x_dict, data.edge_index_dict)\n",
    "    out = model.decode(z[start], z[end], data.edge_label_index_dict[key]).view(-1).sigmoid()\n",
    "    a, b = data.edge_label_dict[key].cpu().numpy(), out.cpu().numpy()\n",
    "    c = (out > 0.5).float().cpu().numpy()\n",
    "        \n",
    "    return roc_auc_score(a, b), accuracy_score(a, c)"
   ]
  },
  {
   "cell_type": "code",
   "execution_count": 7,
   "id": "dab16a6e",
   "metadata": {},
   "outputs": [
    {
     "name": "stdout",
     "output_type": "stream",
     "text": [
      "Epoch: 005, Loss: 0.6721, Val: 0.5443 0.5172, Test: 0.5713 0.5137\n",
      "Epoch: 010, Loss: 0.5973, Val: 0.6252 0.5866, Test: 0.6354 0.6057\n",
      "Epoch: 015, Loss: 0.5109, Val: 0.6510 0.6123, Test: 0.6547 0.6236\n",
      "Epoch: 020, Loss: 0.4368, Val: 0.6671 0.6232, Test: 0.6714 0.6318\n",
      "Epoch: 025, Loss: 0.3655, Val: 0.6795 0.6240, Test: 0.6813 0.6396\n",
      "Epoch: 030, Loss: 0.2945, Val: 0.6876 0.6295, Test: 0.6886 0.6459\n",
      "Epoch: 035, Loss: 0.2397, Val: 0.6950 0.6123, Test: 0.6992 0.6408\n",
      "Epoch: 040, Loss: 0.1958, Val: 0.7044 0.6061, Test: 0.7057 0.6330\n",
      "Epoch: 045, Loss: 0.1683, Val: 0.7115 0.6193, Test: 0.7099 0.6388\n",
      "Epoch: 050, Loss: 0.1456, Val: 0.7207 0.6069, Test: 0.7161 0.6221\n",
      "Final Test: 0.7161 0.6221\n"
     ]
    }
   ],
   "source": [
    "key = (\"movie\", \"to\", \"actor\")\n",
    "start, _, end = key\n",
    "\n",
    "best_val_auc = final_test_auc = final_test_acc = 0\n",
    "for epoch in range(1, 51):\n",
    "    loss = train(simple_model, simple_optimizer, train_data, key)\n",
    "    val_auc, val_acc = test(simple_model, val_data, key)\n",
    "    test_auc, test_acc = test(simple_model, test_data, key)\n",
    "    if val_auc > best_val_auc:\n",
    "        best_val_auc = val_auc\n",
    "        final_test_auc = test_auc\n",
    "        final_test_acc = test_acc\n",
    "        \n",
    "    if epoch % 5 == 0:\n",
    "        print(f'Epoch: {epoch:03d}, Loss: {loss:.4f}, Val: {val_auc:.4f} {val_acc:.4f}, Test: {test_auc:.4f} {test_acc:.4f}')\n",
    "\n",
    "print(f'Final Test: {final_test_auc:.4f} {final_test_acc:.4f}')\n",
    "\n",
    "simple_z = simple_model.encode(test_data.x_dict, test_data.edge_index_dict)\n",
    "simple_final_edge_index = simple_model.decode(simple_z[start], simple_z[end], test_data.edge_label_index_dict[key])"
   ]
  },
  {
   "cell_type": "code",
   "execution_count": 8,
   "id": "ab773d26",
   "metadata": {},
   "outputs": [
    {
     "name": "stdout",
     "output_type": "stream",
     "text": [
      "Epoch: 005, Loss: 0.6909, Val: 0.4724 0.5125, Test: 0.4906 0.5308\n",
      "Epoch: 010, Loss: 0.6840, Val: 0.4989 0.4626, Test: 0.5143 0.4746\n",
      "Epoch: 015, Loss: 0.6692, Val: 0.5415 0.5398, Test: 0.5552 0.5437\n",
      "Epoch: 020, Loss: 0.6440, Val: 0.5759 0.5686, Test: 0.5860 0.5718\n",
      "Epoch: 025, Loss: 0.6117, Val: 0.6035 0.5764, Test: 0.6092 0.5885\n",
      "Epoch: 030, Loss: 0.5736, Val: 0.6218 0.5889, Test: 0.6241 0.5971\n",
      "Epoch: 035, Loss: 0.5368, Val: 0.6378 0.5944, Test: 0.6375 0.5991\n",
      "Epoch: 040, Loss: 0.4966, Val: 0.6494 0.6045, Test: 0.6462 0.6010\n",
      "Epoch: 045, Loss: 0.4624, Val: 0.6564 0.6131, Test: 0.6501 0.6170\n",
      "Epoch: 050, Loss: 0.4297, Val: 0.6593 0.6170, Test: 0.6494 0.6158\n",
      "Final Test: 0.6494 0.6158\n"
     ]
    }
   ],
   "source": [
    "key = (\"movie\", \"to\", \"actor\")\n",
    "start, _, end = key\n",
    "\n",
    "best_val_auc = final_test_auc = final_test_acc = 0\n",
    "for epoch in range(1, 51):\n",
    "    loss = train(model, optimizer, train_data, key)\n",
    "    val_auc, val_acc = test(model, val_data, key)\n",
    "    test_auc, test_acc = test(model, test_data, key)\n",
    "    if val_auc > best_val_auc:\n",
    "        best_val_auc = val_auc\n",
    "        final_test_auc = test_auc\n",
    "        final_test_acc = test_acc\n",
    "        \n",
    "    if epoch % 5 == 0:\n",
    "        print(f'Epoch: {epoch:03d}, Loss: {loss:.4f}, Val: {val_auc:.4f} {val_acc:.4f}, Test: {test_auc:.4f} {test_acc:.4f}')\n",
    "\n",
    "print(f'Final Test: {final_test_auc:.4f} {final_test_acc:.4f}')\n",
    "\n",
    "z = model.encode(test_data.x_dict, test_data.edge_index_dict)\n",
    "final_edge_index = model.decode(z[start], z[end], test_data.edge_label_index_dict[key])"
   ]
  }
 ],
 "metadata": {
  "kernelspec": {
   "display_name": "Python 3 (ipykernel)",
   "language": "python",
   "name": "python3"
  },
  "language_info": {
   "codemirror_mode": {
    "name": "ipython",
    "version": 3
   },
   "file_extension": ".py",
   "mimetype": "text/x-python",
   "name": "python",
   "nbconvert_exporter": "python",
   "pygments_lexer": "ipython3",
   "version": "3.8.6"
  }
 },
 "nbformat": 4,
 "nbformat_minor": 5
}
