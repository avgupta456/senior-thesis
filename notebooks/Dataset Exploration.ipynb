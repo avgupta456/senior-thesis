{
 "cells": [
  {
   "cell_type": "code",
   "execution_count": 1,
   "id": "028b7b7a",
   "metadata": {},
   "outputs": [
    {
     "name": "stderr",
     "output_type": "stream",
     "text": [
      "C:\\Users\\Abhijit\\Documents\\GitHub\\cpsc490\\.venv\\lib\\site-packages\\tqdm\\auto.py:22: TqdmWarning: IProgress not found. Please update jupyter and ipywidgets. See https://ipywidgets.readthedocs.io/en/stable/user_install.html\n",
      "  from .autonotebook import tqdm as notebook_tqdm\n"
     ]
    }
   ],
   "source": [
    "import torch\n",
    "import torch_geometric.transforms as T\n",
    "from torch_geometric.datasets import SNAPDataset"
   ]
  },
  {
   "cell_type": "code",
   "execution_count": 2,
   "id": "7cc38aeb",
   "metadata": {},
   "outputs": [],
   "source": [
    "device = torch.device(\"cuda\" if torch.cuda.is_available() else \"cpu\")"
   ]
  },
  {
   "cell_type": "markdown",
   "id": "40a7aa12",
   "metadata": {},
   "source": [
    "## Homogeneous, Social Network"
   ]
  },
  {
   "cell_type": "code",
   "execution_count": 3,
   "id": "3ef1b20a",
   "metadata": {},
   "outputs": [],
   "source": [
    "transform = T.Compose(\n",
    "    [\n",
    "        T.ToDevice(device),\n",
    "        T.RemoveIsolatedNodes(),\n",
    "        T.RandomLinkSplit(\n",
    "            num_val=0.05,\n",
    "            num_test=0.1,\n",
    "            is_undirected=True,\n",
    "            add_negative_train_samples=False,\n",
    "        ),\n",
    "    ]\n",
    ")"
   ]
  },
  {
   "cell_type": "code",
   "execution_count": 4,
   "id": "b8c39f21",
   "metadata": {},
   "outputs": [],
   "source": [
    "dataset = SNAPDataset(\n",
    "    root=\"./data/SNAPDataset\", name=\"ego-facebook\", transform=transform\n",
    ")\n",
    "train_data, val_data, test_data = dataset[0]"
   ]
  },
  {
   "cell_type": "code",
   "execution_count": 5,
   "id": "0c025c5b",
   "metadata": {},
   "outputs": [
    {
     "data": {
      "text/plain": [
       "Data(x=[347, 1406], edge_index=[2, 5148], circle=[325], circle_batch=[325], edge_label=[570], edge_label_index=[2, 570])"
      ]
     },
     "execution_count": 5,
     "metadata": {},
     "output_type": "execute_result"
    }
   ],
   "source": [
    "test_data"
   ]
  },
  {
   "cell_type": "markdown",
   "id": "98a6dfcc",
   "metadata": {},
   "source": [
    "## Heterogeneous, Recommender System"
   ]
  },
  {
   "cell_type": "code",
   "execution_count": 6,
   "id": "17186b1f",
   "metadata": {},
   "outputs": [],
   "source": [
    "from torch_geometric.datasets import DBLP"
   ]
  },
  {
   "cell_type": "code",
   "execution_count": 7,
   "id": "58a3b7d8",
   "metadata": {},
   "outputs": [],
   "source": [
    "dataset = DBLP(root=\"./data/DBLP\")"
   ]
  },
  {
   "cell_type": "code",
   "execution_count": 8,
   "id": "f38ad1fa",
   "metadata": {},
   "outputs": [
    {
     "data": {
      "text/plain": [
       "HeteroData(\n",
       "  \u001b[1mauthor\u001b[0m={\n",
       "    x=[4057, 334],\n",
       "    y=[4057],\n",
       "    train_mask=[4057],\n",
       "    val_mask=[4057],\n",
       "    test_mask=[4057]\n",
       "  },\n",
       "  \u001b[1mpaper\u001b[0m={ x=[14328, 4231] },\n",
       "  \u001b[1mterm\u001b[0m={ x=[7723, 50] },\n",
       "  \u001b[1mconference\u001b[0m={ num_nodes=20 },\n",
       "  \u001b[1m(author, to, paper)\u001b[0m={ edge_index=[2, 19645] },\n",
       "  \u001b[1m(paper, to, author)\u001b[0m={ edge_index=[2, 19645] },\n",
       "  \u001b[1m(paper, to, term)\u001b[0m={ edge_index=[2, 85810] },\n",
       "  \u001b[1m(paper, to, conference)\u001b[0m={ edge_index=[2, 14328] },\n",
       "  \u001b[1m(term, to, paper)\u001b[0m={ edge_index=[2, 85810] },\n",
       "  \u001b[1m(conference, to, paper)\u001b[0m={ edge_index=[2, 14328] }\n",
       ")"
      ]
     },
     "execution_count": 8,
     "metadata": {},
     "output_type": "execute_result"
    }
   ],
   "source": [
    "dataset[0]"
   ]
  },
  {
   "cell_type": "code",
   "execution_count": 9,
   "id": "f651aacb",
   "metadata": {},
   "outputs": [],
   "source": [
    "from torch_geometric.datasets import IMDB"
   ]
  },
  {
   "cell_type": "code",
   "execution_count": 10,
   "id": "610cada8",
   "metadata": {},
   "outputs": [],
   "source": [
    "dataset = IMDB(root=\"./data/IMDB\")"
   ]
  },
  {
   "cell_type": "code",
   "execution_count": 11,
   "id": "47505246",
   "metadata": {},
   "outputs": [
    {
     "data": {
      "text/plain": [
       "HeteroData(\n",
       "  \u001b[1mmovie\u001b[0m={\n",
       "    x=[4278, 3066],\n",
       "    y=[4278],\n",
       "    train_mask=[4278],\n",
       "    val_mask=[4278],\n",
       "    test_mask=[4278]\n",
       "  },\n",
       "  \u001b[1mdirector\u001b[0m={ x=[2081, 3066] },\n",
       "  \u001b[1mactor\u001b[0m={ x=[5257, 3066] },\n",
       "  \u001b[1m(movie, to, director)\u001b[0m={ edge_index=[2, 4278] },\n",
       "  \u001b[1m(movie, to, actor)\u001b[0m={ edge_index=[2, 12828] },\n",
       "  \u001b[1m(director, to, movie)\u001b[0m={ edge_index=[2, 4278] },\n",
       "  \u001b[1m(actor, to, movie)\u001b[0m={ edge_index=[2, 12828] }\n",
       ")"
      ]
     },
     "execution_count": 11,
     "metadata": {},
     "output_type": "execute_result"
    }
   ],
   "source": [
    "dataset[0]"
   ]
  }
 ],
 "metadata": {
  "kernelspec": {
   "display_name": "Python 3 (ipykernel)",
   "language": "python",
   "name": "python3"
  },
  "language_info": {
   "codemirror_mode": {
    "name": "ipython",
    "version": 3
   },
   "file_extension": ".py",
   "mimetype": "text/x-python",
   "name": "python",
   "nbconvert_exporter": "python",
   "pygments_lexer": "ipython3",
   "version": "3.8.6"
  }
 },
 "nbformat": 4,
 "nbformat_minor": 5
}
