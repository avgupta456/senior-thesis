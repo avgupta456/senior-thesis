{
 "cells": [
  {
   "cell_type": "code",
   "execution_count": 1,
   "id": "028b7b7a",
   "metadata": {},
   "outputs": [
    {
     "name": "stderr",
     "output_type": "stream",
     "text": [
      "C:\\Users\\Abhijit\\Documents\\GitHub\\cpsc490\\.venv\\lib\\site-packages\\tqdm\\auto.py:22: TqdmWarning: IProgress not found. Please update jupyter and ipywidgets. See https://ipywidgets.readthedocs.io/en/stable/user_install.html\n",
      "  from .autonotebook import tqdm as notebook_tqdm\n"
     ]
    }
   ],
   "source": [
    "from torch_geometric.datasets import SNAPDataset, TUDataset"
   ]
  },
  {
   "cell_type": "code",
   "execution_count": 2,
   "id": "39025c15",
   "metadata": {},
   "outputs": [
    {
     "name": "stdout",
     "output_type": "stream",
     "text": [
      "SNAP-ego-facebook(10)\n"
     ]
    },
    {
     "data": {
      "text/plain": [
       "Data(x=[347, 1406], edge_index=[2, 5718], circle=[325], circle_batch=[325])"
      ]
     },
     "execution_count": 2,
     "metadata": {},
     "output_type": "execute_result"
    }
   ],
   "source": [
    "# OPTION 1: 10 small/medium graphs, ego-facebook is undirected, twitter/google are directed, interpreable embeddings\n",
    "\n",
    "dataset = SNAPDataset(root=\"../data/SNAPDataset\", name=\"ego-facebook\")\n",
    "print(dataset)\n",
    "dataset[0]"
   ]
  },
  {
   "cell_type": "code",
   "execution_count": 3,
   "id": "96d432f3",
   "metadata": {},
   "outputs": [
    {
     "name": "stdout",
     "output_type": "stream",
     "text": [
      "IMDB-BINARY(1000)\n"
     ]
    },
    {
     "data": {
      "text/plain": [
       "Data(edge_index=[2, 146], y=[1], num_nodes=20)"
      ]
     },
     "execution_count": 3,
     "metadata": {},
     "output_type": "execute_result"
    }
   ],
   "source": [
    "# OPTION 2: 1K+ social network graphs, but no features on nodes\n",
    "\n",
    "dataset = TUDataset(root=\"../data/TUDataset\", name=\"IMDB-BINARY\")\n",
    "print(dataset)\n",
    "dataset[0]"
   ]
  }
 ],
 "metadata": {
  "kernelspec": {
   "display_name": "Python 3 (ipykernel)",
   "language": "python",
   "name": "python3"
  },
  "language_info": {
   "codemirror_mode": {
    "name": "ipython",
    "version": 3
   },
   "file_extension": ".py",
   "mimetype": "text/x-python",
   "name": "python",
   "nbconvert_exporter": "python",
   "pygments_lexer": "ipython3",
   "version": "3.8.6"
  }
 },
 "nbformat": 4,
 "nbformat_minor": 5
}
