{
 "cells": [
  {
   "cell_type": "code",
   "execution_count": 1,
   "id": "028b7b7a",
   "metadata": {},
   "outputs": [
    {
     "name": "stderr",
     "output_type": "stream",
     "text": [
      "C:\\Users\\Abhijit\\Documents\\GitHub\\cpsc490\\.venv\\lib\\site-packages\\tqdm\\auto.py:22: TqdmWarning: IProgress not found. Please update jupyter and ipywidgets. See https://ipywidgets.readthedocs.io/en/stable/user_install.html\n",
      "  from .autonotebook import tqdm as notebook_tqdm\n"
     ]
    }
   ],
   "source": [
    "import torch\n",
    "import torch_geometric.transforms as T\n",
    "from torch_geometric.loader import DataLoader\n",
    "from torch_geometric.datasets import SNAPDataset"
   ]
  },
  {
   "cell_type": "code",
   "execution_count": 2,
   "id": "7cc38aeb",
   "metadata": {},
   "outputs": [],
   "source": [
    "device = torch.device(\"cuda\" if torch.cuda.is_available() else \"cpu\")"
   ]
  },
  {
   "cell_type": "markdown",
   "id": "40a7aa12",
   "metadata": {},
   "source": [
    "## Homogeneous, Social Network"
   ]
  },
  {
   "cell_type": "code",
   "execution_count": 3,
   "id": "3ef1b20a",
   "metadata": {},
   "outputs": [],
   "source": [
    "transform = T.Compose(\n",
    "    [\n",
    "        T.ToDevice(device),\n",
    "        T.RemoveIsolatedNodes(),\n",
    "        T.RandomLinkSplit(\n",
    "            num_val=0.05,\n",
    "            num_test=0.1,\n",
    "            is_undirected=True,\n",
    "            add_negative_train_samples=False,\n",
    "        ),\n",
    "    ]\n",
    ")"
   ]
  },
  {
   "cell_type": "code",
   "execution_count": 4,
   "id": "b8c39f21",
   "metadata": {},
   "outputs": [],
   "source": [
    "dataset = SNAPDataset(\n",
    "    root=\"./data/SNAPDataset\", name=\"ego-facebook\", transform=transform\n",
    ")\n",
    "\n",
    "train_data = next(iter(DataLoader([x[0] for x in dataset], batch_size=10)))\n",
    "val_data = next(iter(DataLoader([x[1] for x in dataset], batch_size=10)))\n",
    "test_data = next(iter(DataLoader([x[2] for x in dataset], batch_size=10)))"
   ]
  },
  {
   "cell_type": "code",
   "execution_count": 5,
   "id": "48f45fe7",
   "metadata": {},
   "outputs": [
    {
     "name": "stdout",
     "output_type": "stream",
     "text": [
      "DataBatch(x=[4167, 1406], edge_index=[2, 160324], circle=[4233], circle_batch=[4233], edge_label=[17800], edge_label_index=[2, 17800], batch=[4167], ptr=[11])\n"
     ]
    }
   ],
   "source": [
    "print(test_data)"
   ]
  },
  {
   "cell_type": "code",
   "execution_count": 6,
   "id": "5adbbeaf",
   "metadata": {},
   "outputs": [],
   "source": [
    "train_data = train_data.to_heterogeneous(node_type_names=[\"person\"], edge_type_names=[(\"person\", \"to\", \"person\")])\n",
    "train_data[(\"person\", \"to\", \"person\")][\"edge_label\"] = train_data[\"person\"].edge_label\n",
    "train_data[(\"person\", \"to\", \"person\")][\"edge_label_index\"] = train_data[\"person\"].edge_label_index\n",
    "del train_data[\"person\"].edge_label\n",
    "del train_data[\"person\"].edge_label_index\n",
    "del train_data[\"person\"].circle\n",
    "del train_data[\"person\"].circle_batch\n",
    "\n",
    "val_data = val_data.to_heterogeneous(node_type_names=[\"person\"], edge_type_names=[(\"person\", \"to\", \"person\")])\n",
    "val_data[(\"person\", \"to\", \"person\")][\"edge_label\"] = val_data[\"person\"].edge_label\n",
    "val_data[(\"person\", \"to\", \"person\")][\"edge_label_index\"] = val_data[\"person\"].edge_label_index\n",
    "del val_data[\"person\"].edge_label\n",
    "del val_data[\"person\"].edge_label_index\n",
    "del val_data[\"person\"].circle\n",
    "del val_data[\"person\"].circle_batch\n",
    "\n",
    "test_data = test_data.to_heterogeneous(node_type_names=[\"person\"], edge_type_names=[(\"person\", \"to\", \"person\")])\n",
    "test_data[(\"person\", \"to\", \"person\")][\"edge_label\"] = test_data[\"person\"].edge_label\n",
    "test_data[(\"person\", \"to\", \"person\")][\"edge_label_index\"] = test_data[\"person\"].edge_label_index\n",
    "del test_data[\"person\"].edge_label\n",
    "del test_data[\"person\"].edge_label_index\n",
    "del test_data[\"person\"].circle\n",
    "del test_data[\"person\"].circle_batch"
   ]
  },
  {
   "cell_type": "code",
   "execution_count": 7,
   "id": "4dae6573",
   "metadata": {},
   "outputs": [
    {
     "name": "stdout",
     "output_type": "stream",
     "text": [
      "HeteroData(\n",
      "  \u001b[1mperson\u001b[0m={\n",
      "    x=[4167, 1406],\n",
      "    batch=[4167],\n",
      "    ptr=[11]\n",
      "  },\n",
      "  \u001b[1m(person, to, person)\u001b[0m={\n",
      "    edge_index=[2, 151430],\n",
      "    edge_label=[75715],\n",
      "    edge_label_index=[2, 75715]\n",
      "  }\n",
      ")\n",
      "HeteroData(\n",
      "  \u001b[1mperson\u001b[0m={\n",
      "    x=[4167, 1406],\n",
      "    batch=[4167],\n",
      "    ptr=[11]\n",
      "  },\n",
      "  \u001b[1m(person, to, person)\u001b[0m={\n",
      "    edge_index=[2, 151430],\n",
      "    edge_label=[8894],\n",
      "    edge_label_index=[2, 8894]\n",
      "  }\n",
      ")\n",
      "HeteroData(\n",
      "  \u001b[1mperson\u001b[0m={\n",
      "    x=[4167, 1406],\n",
      "    batch=[4167],\n",
      "    ptr=[11]\n",
      "  },\n",
      "  \u001b[1m(person, to, person)\u001b[0m={\n",
      "    edge_index=[2, 160324],\n",
      "    edge_label=[17800],\n",
      "    edge_label_index=[2, 17800]\n",
      "  }\n",
      ")\n"
     ]
    }
   ],
   "source": [
    "print(train_data)\n",
    "print(val_data)\n",
    "print(test_data)"
   ]
  },
  {
   "cell_type": "markdown",
   "id": "98a6dfcc",
   "metadata": {},
   "source": [
    "## Heterogeneous, Recommender System"
   ]
  },
  {
   "cell_type": "markdown",
   "id": "2a720756",
   "metadata": {},
   "source": [
    "### DBLP"
   ]
  },
  {
   "cell_type": "code",
   "execution_count": 8,
   "id": "17186b1f",
   "metadata": {},
   "outputs": [],
   "source": [
    "from torch_geometric.datasets import DBLP"
   ]
  },
  {
   "cell_type": "code",
   "execution_count": 9,
   "id": "464c5fa8",
   "metadata": {},
   "outputs": [],
   "source": [
    "transform = T.Compose([\n",
    "    T.ToDevice(device),\n",
    "    T.RemoveIsolatedNodes(),\n",
    "    T.RandomLinkSplit(\n",
    "        num_val=0.05, \n",
    "        num_test=0.1, \n",
    "        is_undirected=True, \n",
    "        add_negative_train_samples=False,\n",
    "        edge_types=[(\"paper\", \"to\", \"author\")]\n",
    "    ),\n",
    "    T.ToUndirected(),\n",
    "])"
   ]
  },
  {
   "cell_type": "code",
   "execution_count": 10,
   "id": "58a3b7d8",
   "metadata": {},
   "outputs": [],
   "source": [
    "dataset = DBLP(root=\"../data/DBLP\", transform=transform)\n",
    "\n",
    "train_data, val_data, test_data = dataset[0]\n",
    "\n",
    "for data in train_data, val_data, test_data:\n",
    "    del data[\"term\"]\n",
    "    del data[(\"paper\", \"to\", \"term\")]\n",
    "    del data[(\"term\", \"to\", \"paper\")]\n",
    "    del data[(\"author\", \"to\", \"paper\")]\n",
    "    del data[(\"conference\", \"to\", \"paper\")]\n",
    "    \n",
    "    del data[(\"paper\", \"rev_to\", \"author\")]\n",
    "    del data[(\"term\", \"rev_to\", \"paper\")]\n",
    "    del data[(\"paper\", \"rev_to\", \"term\")]\n",
    "    del data[(\"paper\", \"rev_to\", \"conference\")]\n",
    "    \n",
    "    del data[\"author\"].train_mask\n",
    "    del data[\"author\"].val_mask\n",
    "    del data[\"author\"].test_mask\n",
    "    del data[\"author\"].y\n",
    "    \n",
    "    data[\"conference\"].x = torch.ones((20, 1))\n",
    "    del data[\"conference\"].num_nodes"
   ]
  },
  {
   "cell_type": "code",
   "execution_count": 11,
   "id": "a56468aa",
   "metadata": {},
   "outputs": [
    {
     "data": {
      "text/plain": [
       "HeteroData(\n",
       "  \u001b[1mauthor\u001b[0m={ x=[4057, 334] },\n",
       "  \u001b[1mpaper\u001b[0m={ x=[14328, 4231] },\n",
       "  \u001b[1mconference\u001b[0m={ x=[20, 1] },\n",
       "  \u001b[1m(paper, to, author)\u001b[0m={\n",
       "    edge_index=[2, 16699],\n",
       "    edge_label=[16699],\n",
       "    edge_label_index=[2, 16699]\n",
       "  },\n",
       "  \u001b[1m(paper, to, conference)\u001b[0m={ edge_index=[2, 14328] },\n",
       "  \u001b[1m(author, rev_to, paper)\u001b[0m={\n",
       "    edge_index=[2, 16699],\n",
       "    edge_label=[16699]\n",
       "  },\n",
       "  \u001b[1m(conference, rev_to, paper)\u001b[0m={ edge_index=[2, 14328] }\n",
       ")"
      ]
     },
     "execution_count": 11,
     "metadata": {},
     "output_type": "execute_result"
    }
   ],
   "source": [
    "train_data"
   ]
  },
  {
   "cell_type": "code",
   "execution_count": 12,
   "id": "ea42ad7f",
   "metadata": {},
   "outputs": [
    {
     "data": {
      "text/plain": [
       "HeteroData(\n",
       "  \u001b[1mauthor\u001b[0m={ x=[4057, 334] },\n",
       "  \u001b[1mpaper\u001b[0m={ x=[14328, 4231] },\n",
       "  \u001b[1mconference\u001b[0m={ x=[20, 1] },\n",
       "  \u001b[1m(paper, to, author)\u001b[0m={\n",
       "    edge_index=[2, 16699],\n",
       "    edge_label=[1964],\n",
       "    edge_label_index=[2, 1964]\n",
       "  },\n",
       "  \u001b[1m(paper, to, conference)\u001b[0m={ edge_index=[2, 14328] },\n",
       "  \u001b[1m(author, rev_to, paper)\u001b[0m={ edge_index=[2, 16699] },\n",
       "  \u001b[1m(conference, rev_to, paper)\u001b[0m={ edge_index=[2, 14328] }\n",
       ")"
      ]
     },
     "execution_count": 12,
     "metadata": {},
     "output_type": "execute_result"
    }
   ],
   "source": [
    "val_data"
   ]
  },
  {
   "cell_type": "code",
   "execution_count": 13,
   "id": "041626f4",
   "metadata": {},
   "outputs": [
    {
     "data": {
      "text/plain": [
       "HeteroData(\n",
       "  \u001b[1mauthor\u001b[0m={ x=[4057, 334] },\n",
       "  \u001b[1mpaper\u001b[0m={ x=[14328, 4231] },\n",
       "  \u001b[1mconference\u001b[0m={ x=[20, 1] },\n",
       "  \u001b[1m(paper, to, author)\u001b[0m={\n",
       "    edge_index=[2, 17681],\n",
       "    edge_label=[3928],\n",
       "    edge_label_index=[2, 3928]\n",
       "  },\n",
       "  \u001b[1m(paper, to, conference)\u001b[0m={ edge_index=[2, 14328] },\n",
       "  \u001b[1m(author, rev_to, paper)\u001b[0m={ edge_index=[2, 17681] },\n",
       "  \u001b[1m(conference, rev_to, paper)\u001b[0m={ edge_index=[2, 14328] }\n",
       ")"
      ]
     },
     "execution_count": 13,
     "metadata": {},
     "output_type": "execute_result"
    }
   ],
   "source": [
    "test_data"
   ]
  },
  {
   "cell_type": "markdown",
   "id": "0ba29e0c",
   "metadata": {},
   "source": [
    "### IMDB"
   ]
  },
  {
   "cell_type": "code",
   "execution_count": 14,
   "id": "f651aacb",
   "metadata": {},
   "outputs": [],
   "source": [
    "from torch_geometric.datasets import IMDB"
   ]
  },
  {
   "cell_type": "code",
   "execution_count": 15,
   "id": "be1552ae",
   "metadata": {},
   "outputs": [],
   "source": [
    "transform = T.Compose([\n",
    "    T.ToDevice(device),\n",
    "    T.RemoveIsolatedNodes(),\n",
    "    T.RandomLinkSplit(\n",
    "        num_val=0.05, \n",
    "        num_test=0.1, \n",
    "        is_undirected=True, \n",
    "        add_negative_train_samples=False,\n",
    "        edge_types=[(\"movie\", \"to\", \"actor\")]\n",
    "    ),\n",
    "    T.ToUndirected(),\n",
    "])"
   ]
  },
  {
   "cell_type": "code",
   "execution_count": 16,
   "id": "610cada8",
   "metadata": {},
   "outputs": [],
   "source": [
    "dataset = IMDB(root=\"../data/IMDB\", transform=transform)\n",
    "\n",
    "train_data, val_data, test_data = dataset[0]\n",
    "\n",
    "for data in train_data, val_data, test_data:\n",
    "    del data[(\"director\", \"to\", \"movie\")]\n",
    "    del data[(\"actor\", \"to\", \"movie\")]\n",
    "    \n",
    "    del data[(\"movie\", \"rev_to\", \"director\")]\n",
    "    del data[(\"movie\", \"rev_to\", \"actor\")]\n",
    "    \n",
    "    del data[\"movie\"].train_mask\n",
    "    del data[\"movie\"].val_mask\n",
    "    del data[\"movie\"].test_mask\n",
    "    del data[\"movie\"].y"
   ]
  },
  {
   "cell_type": "code",
   "execution_count": 17,
   "id": "47505246",
   "metadata": {},
   "outputs": [
    {
     "data": {
      "text/plain": [
       "HeteroData(\n",
       "  \u001b[1mmovie\u001b[0m={ x=[4278, 3066] },\n",
       "  \u001b[1mdirector\u001b[0m={ x=[2081, 3066] },\n",
       "  \u001b[1mactor\u001b[0m={ x=[5257, 3066] },\n",
       "  \u001b[1m(movie, to, director)\u001b[0m={ edge_index=[2, 4278] },\n",
       "  \u001b[1m(movie, to, actor)\u001b[0m={\n",
       "    edge_index=[2, 10905],\n",
       "    edge_label=[10905],\n",
       "    edge_label_index=[2, 10905]\n",
       "  },\n",
       "  \u001b[1m(director, rev_to, movie)\u001b[0m={ edge_index=[2, 4278] },\n",
       "  \u001b[1m(actor, rev_to, movie)\u001b[0m={\n",
       "    edge_index=[2, 10905],\n",
       "    edge_label=[10905]\n",
       "  }\n",
       ")"
      ]
     },
     "execution_count": 17,
     "metadata": {},
     "output_type": "execute_result"
    }
   ],
   "source": [
    "train_data"
   ]
  },
  {
   "cell_type": "code",
   "execution_count": 18,
   "id": "4370968c",
   "metadata": {},
   "outputs": [
    {
     "data": {
      "text/plain": [
       "HeteroData(\n",
       "  \u001b[1mmovie\u001b[0m={ x=[4278, 3066] },\n",
       "  \u001b[1mdirector\u001b[0m={ x=[2081, 3066] },\n",
       "  \u001b[1mactor\u001b[0m={ x=[5257, 3066] },\n",
       "  \u001b[1m(movie, to, director)\u001b[0m={ edge_index=[2, 4278] },\n",
       "  \u001b[1m(movie, to, actor)\u001b[0m={\n",
       "    edge_index=[2, 10905],\n",
       "    edge_label=[1282],\n",
       "    edge_label_index=[2, 1282]\n",
       "  },\n",
       "  \u001b[1m(director, rev_to, movie)\u001b[0m={ edge_index=[2, 4278] },\n",
       "  \u001b[1m(actor, rev_to, movie)\u001b[0m={ edge_index=[2, 10905] }\n",
       ")"
      ]
     },
     "execution_count": 18,
     "metadata": {},
     "output_type": "execute_result"
    }
   ],
   "source": [
    "val_data"
   ]
  },
  {
   "cell_type": "code",
   "execution_count": 19,
   "id": "1424d51b",
   "metadata": {},
   "outputs": [
    {
     "data": {
      "text/plain": [
       "HeteroData(\n",
       "  \u001b[1mmovie\u001b[0m={ x=[4278, 3066] },\n",
       "  \u001b[1mdirector\u001b[0m={ x=[2081, 3066] },\n",
       "  \u001b[1mactor\u001b[0m={ x=[5257, 3066] },\n",
       "  \u001b[1m(movie, to, director)\u001b[0m={ edge_index=[2, 4278] },\n",
       "  \u001b[1m(movie, to, actor)\u001b[0m={\n",
       "    edge_index=[2, 11546],\n",
       "    edge_label=[2564],\n",
       "    edge_label_index=[2, 2564]\n",
       "  },\n",
       "  \u001b[1m(director, rev_to, movie)\u001b[0m={ edge_index=[2, 4278] },\n",
       "  \u001b[1m(actor, rev_to, movie)\u001b[0m={ edge_index=[2, 11546] }\n",
       ")"
      ]
     },
     "execution_count": 19,
     "metadata": {},
     "output_type": "execute_result"
    }
   ],
   "source": [
    "test_data"
   ]
  },
  {
   "cell_type": "code",
   "execution_count": null,
   "id": "f01f37a7",
   "metadata": {},
   "outputs": [],
   "source": []
  }
 ],
 "metadata": {
  "kernelspec": {
   "display_name": "Python 3 (ipykernel)",
   "language": "python",
   "name": "python3"
  },
  "language_info": {
   "codemirror_mode": {
    "name": "ipython",
    "version": 3
   },
   "file_extension": ".py",
   "mimetype": "text/x-python",
   "name": "python",
   "nbconvert_exporter": "python",
   "pygments_lexer": "ipython3",
   "version": "3.8.6"
  }
 },
 "nbformat": 4,
 "nbformat_minor": 5
}
