{
 "cells": [
  {
   "cell_type": "code",
   "execution_count": 1,
   "id": "4b71d513",
   "metadata": {},
   "outputs": [
    {
     "name": "stderr",
     "output_type": "stream",
     "text": [
      "C:\\Users\\Abhijit\\Documents\\GitHub\\cpsc490\\.venv\\lib\\site-packages\\tqdm\\auto.py:22: TqdmWarning: IProgress not found. Please update jupyter and ipywidgets. See https://ipywidgets.readthedocs.io/en/stable/user_install.html\n",
      "  from .autonotebook import tqdm as notebook_tqdm\n"
     ]
    }
   ],
   "source": [
    "from tqdm import tqdm\n",
    "\n",
    "import torch\n",
    "import matplotlib.pyplot as plt\n",
    "from sklearn.metrics import roc_auc_score, accuracy_score\n",
    "\n",
    "import torch_geometric.transforms as T\n",
    "from torch_geometric.datasets import SNAPDataset\n",
    "from torch_geometric.nn import GCNConv\n",
    "from torch_geometric.utils import negative_sampling"
   ]
  },
  {
   "cell_type": "code",
   "execution_count": 2,
   "id": "c406e424",
   "metadata": {},
   "outputs": [],
   "source": [
    "device = torch.device('cuda' if torch.cuda.is_available() else 'cpu')\n",
    "\n",
    "transform = T.Compose([\n",
    "    T.ToDevice(device),\n",
    "    T.RandomLinkSplit(\n",
    "        num_val=0.05, \n",
    "        num_test=0.1, \n",
    "        is_undirected=True, \n",
    "        add_negative_train_samples=False\n",
    "    ),\n",
    "])\n",
    "\n",
    "dataset = SNAPDataset(root=\"../data/SNAPDataset\", name=\"ego-facebook\", transform=transform)\n",
    "\n",
    "train_data, val_data, test_data = dataset[0]"
   ]
  },
  {
   "cell_type": "code",
   "execution_count": 3,
   "id": "4535e18c",
   "metadata": {},
   "outputs": [
    {
     "name": "stdout",
     "output_type": "stream",
     "text": [
      "Data(x=[347, 1406], edge_index=[2, 4864], circle=[325], circle_batch=[325], edge_label=[2432], edge_label_index=[2, 2432])\n",
      "Data(x=[347, 1406], edge_index=[2, 4864], circle=[325], circle_batch=[325], edge_label=[284], edge_label_index=[2, 284])\n",
      "Data(x=[347, 1406], edge_index=[2, 5148], circle=[325], circle_batch=[325], edge_label=[570], edge_label_index=[2, 570])\n"
     ]
    }
   ],
   "source": [
    "print(train_data)\n",
    "print(val_data)\n",
    "print(test_data)"
   ]
  },
  {
   "cell_type": "code",
   "execution_count": 4,
   "id": "2cf38f60",
   "metadata": {},
   "outputs": [],
   "source": [
    "from torch import nn\n",
    "import torch.nn.functional as F\n",
    "\n",
    "\n",
    "class SimpleNet(torch.nn.Module):\n",
    "    def __init__(self, in_channels, hidden_channels, out_channels):\n",
    "        super().__init__()\n",
    "        self.conv1 = GCNConv(in_channels, hidden_channels)\n",
    "        self.conv2 = GCNConv(hidden_channels, out_channels)\n",
    "\n",
    "    def encode(self, x, edge_index):\n",
    "        x = self.conv1(x, edge_index).relu()\n",
    "        return self.conv2(x, edge_index)\n",
    "\n",
    "    def decode(self, z, edge_label_index):\n",
    "        return (z[edge_label_index[0]] * z[edge_label_index[1]]).sum(dim=-1)\n",
    "\n",
    "\n",
    "class Net(torch.nn.Module):\n",
    "    def __init__(self, in_channels, hidden_channels, out_channels):\n",
    "        super().__init__()\n",
    "        self.conv1 = GCNConv(in_channels, hidden_channels)\n",
    "        self.conv2 = GCNConv(hidden_channels, out_channels)\n",
    "        \n",
    "        self.W1 = nn.Linear(out_channels * 2, out_channels)\n",
    "        self.W2 = nn.Linear(out_channels, 1)\n",
    "\n",
    "    def encode(self, x, edge_index):\n",
    "        x = self.conv1(x, edge_index).relu()\n",
    "        return self.conv2(x, edge_index)\n",
    "\n",
    "    def decode(self, z, edge_label_index):\n",
    "        z = torch.cat((z[edge_label_index[0]], z[edge_label_index[1]]), dim=1)\n",
    "        return self.W2(F.relu(self.W1(z)).squeeze())\n",
    "\n",
    "simple_model = SimpleNet(dataset.num_features, 128, 32).to(device)\n",
    "simple_optimizer = torch.optim.Adam(params=simple_model.parameters(), lr=3e-3)\n",
    "    \n",
    "model = Net(dataset.num_features, 128, 32).to(device)\n",
    "optimizer = torch.optim.Adam(params=model.parameters(), lr=3e-3)\n",
    "criterion = torch.nn.BCEWithLogitsLoss()"
   ]
  },
  {
   "cell_type": "code",
   "execution_count": 5,
   "id": "707d6476",
   "metadata": {},
   "outputs": [],
   "source": [
    "def train(model, optimizer, data):\n",
    "    model.train()\n",
    "    optimizer.zero_grad()\n",
    "    z = model.encode(data.x, data.edge_index)\n",
    "\n",
    "    # We perform a new round of negative sampling for every training epoch:\n",
    "    neg_edge_index = negative_sampling(\n",
    "        edge_index=data.edge_index, \n",
    "        num_nodes=data.num_nodes,\n",
    "        num_neg_samples=data.edge_label_index.shape[1], \n",
    "        method='sparse'\n",
    "    )\n",
    "\n",
    "    edge_label_index = torch.cat([data.edge_label_index, neg_edge_index], dim=-1)\n",
    "    edge_label = torch.cat([data.edge_label, data.edge_label.new_zeros(neg_edge_index.size(1))], dim=0)\n",
    "\n",
    "    out = model.decode(z, edge_label_index).view(-1)\n",
    "    loss = criterion(out, edge_label)\n",
    "    loss.backward()\n",
    "    optimizer.step()\n",
    "    return loss\n",
    "\n",
    "\n",
    "@torch.no_grad()\n",
    "def test(model, data):\n",
    "    model.eval()\n",
    "    z = model.encode(data.x, data.edge_index)\n",
    "    out = model.decode(z, data.edge_label_index).view(-1).sigmoid()\n",
    "    a, b = data.edge_label.cpu().numpy(), out.cpu().numpy()\n",
    "    c = (out > 0.5).float().cpu().numpy()\n",
    "    return roc_auc_score(a, b), accuracy_score(a, c)"
   ]
  },
  {
   "cell_type": "code",
   "execution_count": 6,
   "id": "32e49419",
   "metadata": {},
   "outputs": [
    {
     "name": "stdout",
     "output_type": "stream",
     "text": [
      "Epoch: 050, Loss: 0.4899, Val: 0.9216 0.7394, Test: 0.9143 0.7456\n",
      "Epoch: 100, Loss: 0.4625, Val: 0.9238 0.7394, Test: 0.9133 0.7561\n",
      "Epoch: 150, Loss: 0.4511, Val: 0.9220 0.7289, Test: 0.9145 0.7702\n",
      "Epoch: 200, Loss: 0.4513, Val: 0.9192 0.7359, Test: 0.9071 0.7772\n",
      "Epoch: 250, Loss: 0.4371, Val: 0.9158 0.7535, Test: 0.8995 0.7842\n",
      "Epoch: 300, Loss: 0.4279, Val: 0.9095 0.7500, Test: 0.8962 0.7789\n",
      "Epoch: 350, Loss: 0.4174, Val: 0.9185 0.7430, Test: 0.9020 0.7684\n",
      "Epoch: 400, Loss: 0.4305, Val: 0.9041 0.7430, Test: 0.8963 0.7947\n",
      "Epoch: 450, Loss: 0.4292, Val: 0.9031 0.7430, Test: 0.8966 0.7860\n",
      "Epoch: 500, Loss: 0.4210, Val: 0.9103 0.7570, Test: 0.8959 0.7982\n",
      "Epoch: 550, Loss: 0.4195, Val: 0.9009 0.7500, Test: 0.8938 0.7912\n",
      "Epoch: 600, Loss: 0.4087, Val: 0.9067 0.7641, Test: 0.8961 0.7877\n",
      "Epoch: 650, Loss: 0.4149, Val: 0.9015 0.7606, Test: 0.8942 0.7842\n",
      "Epoch: 700, Loss: 0.3894, Val: 0.8985 0.7782, Test: 0.8894 0.7807\n",
      "Epoch: 750, Loss: 0.4012, Val: 0.9054 0.7817, Test: 0.8920 0.7842\n",
      "Epoch: 800, Loss: 0.4000, Val: 0.9078 0.7958, Test: 0.8920 0.7912\n",
      "Epoch: 850, Loss: 0.4072, Val: 0.8988 0.7782, Test: 0.8866 0.7772\n",
      "Epoch: 900, Loss: 0.4125, Val: 0.9014 0.7958, Test: 0.8875 0.7772\n",
      "Epoch: 950, Loss: 0.4001, Val: 0.8992 0.7923, Test: 0.8915 0.7895\n",
      "Epoch: 1000, Loss: 0.4172, Val: 0.9046 0.7993, Test: 0.8848 0.7807\n",
      "Final Test: 0.9155 0.7509\n"
     ]
    }
   ],
   "source": [
    "best_val_auc = final_test_auc = final_test_acc = 0\n",
    "for epoch in range(1, 1001):\n",
    "    loss = train(simple_model, simple_optimizer, train_data)\n",
    "    val_auc, val_acc = test(simple_model, val_data)\n",
    "    test_auc, test_acc = test(simple_model, test_data)\n",
    "    if val_auc > best_val_auc:\n",
    "        best_val_auc = val_auc\n",
    "        final_test_auc = test_auc\n",
    "        final_test_acc = test_acc\n",
    "    if epoch % 50 == 0:\n",
    "        print(f'Epoch: {epoch:03d}, Loss: {loss:.4f}, Val: {val_auc:.4f} {val_acc:.4f}, Test: {test_auc:.4f} {test_acc:.4f}')\n",
    "\n",
    "print(f'Final Test: {final_test_auc:.4f} {final_test_acc:.4f}')\n",
    "\n",
    "simple_z = simple_model.encode(test_data.x, test_data.edge_index)\n",
    "simple_final_edge_index = simple_model.decode(simple_z, test_data.edge_label_index)"
   ]
  },
  {
   "cell_type": "code",
   "execution_count": 7,
   "id": "3de78a79",
   "metadata": {},
   "outputs": [
    {
     "name": "stdout",
     "output_type": "stream",
     "text": [
      "Epoch: 050, Loss: 0.3604, Val: 0.9260 0.8486, Test: 0.9086 0.8211\n",
      "Epoch: 100, Loss: 0.2921, Val: 0.9522 0.8732, Test: 0.9367 0.8544\n",
      "Epoch: 150, Loss: 0.2633, Val: 0.9570 0.8803, Test: 0.9404 0.8632\n",
      "Epoch: 200, Loss: 0.2588, Val: 0.9576 0.8908, Test: 0.9417 0.8754\n",
      "Epoch: 250, Loss: 0.2462, Val: 0.9619 0.8979, Test: 0.9447 0.8754\n",
      "Epoch: 300, Loss: 0.2099, Val: 0.9665 0.9049, Test: 0.9554 0.8947\n",
      "Epoch: 350, Loss: 0.2147, Val: 0.9667 0.9014, Test: 0.9559 0.8912\n",
      "Epoch: 400, Loss: 0.2008, Val: 0.9671 0.8979, Test: 0.9590 0.9000\n",
      "Epoch: 450, Loss: 0.1932, Val: 0.9677 0.8873, Test: 0.9604 0.8930\n",
      "Epoch: 500, Loss: 0.1881, Val: 0.9658 0.8979, Test: 0.9581 0.9000\n",
      "Epoch: 550, Loss: 0.1846, Val: 0.9660 0.8979, Test: 0.9600 0.9000\n",
      "Epoch: 600, Loss: 0.2057, Val: 0.9649 0.8908, Test: 0.9594 0.8965\n",
      "Epoch: 650, Loss: 0.1881, Val: 0.9651 0.9014, Test: 0.9604 0.8947\n",
      "Epoch: 700, Loss: 0.1959, Val: 0.9649 0.8944, Test: 0.9607 0.8947\n",
      "Epoch: 750, Loss: 0.1780, Val: 0.9634 0.8944, Test: 0.9578 0.8982\n",
      "Epoch: 800, Loss: 0.1813, Val: 0.9621 0.8908, Test: 0.9589 0.8982\n",
      "Epoch: 850, Loss: 0.1690, Val: 0.9624 0.8979, Test: 0.9608 0.9000\n",
      "Epoch: 900, Loss: 0.1681, Val: 0.9634 0.8908, Test: 0.9603 0.9000\n",
      "Epoch: 950, Loss: 0.1724, Val: 0.9614 0.8979, Test: 0.9603 0.9018\n",
      "Epoch: 1000, Loss: 0.1629, Val: 0.9622 0.8908, Test: 0.9622 0.9000\n",
      "Final Test: 0.9568 0.8912\n"
     ]
    }
   ],
   "source": [
    "best_val_auc = final_test_auc = final_test_acc = 0\n",
    "for epoch in range(1, 1001):\n",
    "    loss = train(model, optimizer, train_data)\n",
    "    val_auc, val_acc = test(model, val_data)\n",
    "    test_auc, test_acc = test(model, test_data)\n",
    "    if val_auc > best_val_auc:\n",
    "        best_val_auc = val_auc\n",
    "        final_test_auc = test_auc\n",
    "        final_test_acc = test_acc\n",
    "    if epoch % 50 == 0:\n",
    "        print(f'Epoch: {epoch:03d}, Loss: {loss:.4f}, Val: {val_auc:.4f} {val_acc:.4f}, Test: {test_auc:.4f} {test_acc:.4f}')\n",
    "\n",
    "print(f'Final Test: {final_test_auc:.4f} {final_test_acc:.4f}')\n",
    "\n",
    "z = model.encode(test_data.x, test_data.edge_index)\n",
    "final_edge_index = model.decode(z, test_data.edge_label_index)"
   ]
  },
  {
   "cell_type": "code",
   "execution_count": 8,
   "id": "4832e354",
   "metadata": {},
   "outputs": [
    {
     "data": {
      "text/plain": [
       "tensor(0.8474)"
      ]
     },
     "execution_count": 8,
     "metadata": {},
     "output_type": "execute_result"
    }
   ],
   "source": [
    "(test_data.edge_label == (torch.sigmoid(simple_final_edge_index.squeeze()) > 0.7)).sum() / test_data.edge_label.shape[0]"
   ]
  },
  {
   "cell_type": "code",
   "execution_count": 9,
   "id": "9aeba3cd",
   "metadata": {},
   "outputs": [
    {
     "data": {
      "text/plain": [
       "tensor(0.9000)"
      ]
     },
     "execution_count": 9,
     "metadata": {},
     "output_type": "execute_result"
    }
   ],
   "source": [
    "(test_data.edge_label == (torch.sigmoid(final_edge_index.squeeze()) > 0.5)).sum() / test_data.edge_label.shape[0]"
   ]
  },
  {
   "cell_type": "code",
   "execution_count": null,
   "id": "a1617209",
   "metadata": {},
   "outputs": [],
   "source": []
  }
 ],
 "metadata": {
  "kernelspec": {
   "display_name": "Python 3 (ipykernel)",
   "language": "python",
   "name": "python3"
  },
  "language_info": {
   "codemirror_mode": {
    "name": "ipython",
    "version": 3
   },
   "file_extension": ".py",
   "mimetype": "text/x-python",
   "name": "python",
   "nbconvert_exporter": "python",
   "pygments_lexer": "ipython3",
   "version": "3.8.6"
  }
 },
 "nbformat": 4,
 "nbformat_minor": 5
}
