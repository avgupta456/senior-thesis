{
 "cells": [
  {
   "cell_type": "markdown",
   "id": "0c9f930a",
   "metadata": {},
   "source": [
    "## Dependencies"
   ]
  },
  {
   "cell_type": "code",
   "execution_count": 1,
   "id": "dab1594f",
   "metadata": {},
   "outputs": [
    {
     "name": "stderr",
     "output_type": "stream",
     "text": [
      "C:\\Users\\Abhijit\\Documents\\GitHub\\cpsc490\\.venv\\lib\\site-packages\\tqdm\\auto.py:22: TqdmWarning: IProgress not found. Please update jupyter and ipywidgets. See https://ipywidgets.readthedocs.io/en/stable/user_install.html\n",
      "  from .autonotebook import tqdm as notebook_tqdm\n"
     ]
    }
   ],
   "source": [
    "from tqdm import tqdm\n",
    "import statistics\n",
    "\n",
    "import torch\n",
    "import matplotlib.pyplot as plt\n",
    "import networkx as nx\n",
    "import numpy as np\n",
    "from sklearn.metrics import roc_auc_score, accuracy_score\n",
    "\n",
    "import torch_geometric.transforms as T\n",
    "from torch_geometric.datasets import SNAPDataset\n",
    "from torch_geometric.nn import GCNConv, SAGEConv, GATConv, GINConv\n",
    "from torch_geometric.utils import negative_sampling, to_networkx\n",
    "\n",
    "torch.manual_seed(0)\n",
    "\n",
    "%matplotlib notebook"
   ]
  },
  {
   "cell_type": "markdown",
   "id": "c3a66043",
   "metadata": {},
   "source": [
    "## Data"
   ]
  },
  {
   "cell_type": "code",
   "execution_count": 2,
   "id": "c28bc0fe",
   "metadata": {},
   "outputs": [],
   "source": [
    "device = torch.device('cuda' if torch.cuda.is_available() else 'cpu')\n",
    "\n",
    "orig_transform = T.Compose([\n",
    "    T.ToDevice(device),\n",
    "    T.RemoveIsolatedNodes(),\n",
    "])\n",
    "\n",
    "transform = T.Compose([\n",
    "    T.ToDevice(device),\n",
    "    T.RemoveIsolatedNodes(),\n",
    "    T.RandomLinkSplit(\n",
    "        num_val=0.05, \n",
    "        num_test=0.1, \n",
    "        is_undirected=True, \n",
    "        add_negative_train_samples=False\n",
    "    ),\n",
    "])\n",
    "\n",
    "orig_dataset = SNAPDataset(root=\"../data/SNAPDataset\", name=\"ego-facebook\", transform=orig_transform)\n",
    "dataset = SNAPDataset(root=\"../data/SNAPDataset\", name=\"ego-facebook\", transform=transform)\n",
    "\n",
    "data = orig_dataset[0]\n",
    "train_data, val_data, test_data = dataset[0]"
   ]
  },
  {
   "cell_type": "code",
   "execution_count": 3,
   "id": "74e0ba2b",
   "metadata": {},
   "outputs": [
    {
     "name": "stdout",
     "output_type": "stream",
     "text": [
      "Data(x=[347, 1406], edge_index=[2, 5718], circle=[325], circle_batch=[325])\n",
      "Data(x=[347, 1406], edge_index=[2, 4864], circle=[325], circle_batch=[325], edge_label=[2432], edge_label_index=[2, 2432])\n",
      "Data(x=[347, 1406], edge_index=[2, 4864], circle=[325], circle_batch=[325], edge_label=[284], edge_label_index=[2, 284])\n",
      "Data(x=[347, 1406], edge_index=[2, 5148], circle=[325], circle_batch=[325], edge_label=[570], edge_label_index=[2, 570])\n"
     ]
    }
   ],
   "source": [
    "print(data)\n",
    "print(train_data)\n",
    "print(val_data)\n",
    "print(test_data)"
   ]
  },
  {
   "cell_type": "markdown",
   "id": "f15c1c21",
   "metadata": {},
   "source": [
    "## Prediction"
   ]
  },
  {
   "cell_type": "code",
   "execution_count": 4,
   "id": "e03cbce8",
   "metadata": {},
   "outputs": [],
   "source": [
    "from torch import nn\n",
    "import torch.nn.functional as F\n",
    "\n",
    "\n",
    "class SimpleNet(torch.nn.Module):\n",
    "    def __init__(self, in_channels, hidden_channels, out_channels):\n",
    "        super().__init__()\n",
    "        self.conv1 = GCNConv(in_channels, hidden_channels)\n",
    "        self.conv2 = GCNConv(hidden_channels, out_channels)\n",
    "\n",
    "    def encode(self, x, edge_index):\n",
    "        x = self.conv1(x, edge_index).relu()\n",
    "        return self.conv2(x, edge_index)\n",
    "\n",
    "    def decode(self, z, edge_label_index):\n",
    "        return (z[edge_label_index[0]] * z[edge_label_index[1]]).sum(dim=-1)\n",
    "    \n",
    "    def forward(self, x, edge_index, data=None):\n",
    "        z = self.encode(x, edge_index)\n",
    "        out = model.decode(z, edge_index)\n",
    "        return torch.hstack((-out, out)).T\n",
    "\n",
    "\n",
    "class Net(torch.nn.Module):\n",
    "    def __init__(self, in_channels, hidden_channels, out_channels):\n",
    "        super().__init__()\n",
    "        # TODO: look into SAGEConv, GATConv, GINConv, comparison between\n",
    "        self.conv1 = GCNConv(in_channels, hidden_channels)\n",
    "        self.conv2 = GCNConv(hidden_channels, out_channels)\n",
    "        \n",
    "        self.W1 = nn.Linear(out_channels * 2, out_channels)\n",
    "        self.W2 = nn.Linear(out_channels, 1)\n",
    "\n",
    "    def encode(self, x, edge_index):\n",
    "        x = self.conv1(x, edge_index).relu()\n",
    "        return self.conv2(x, edge_index)\n",
    "\n",
    "    def decode(self, z, edge_label_index):\n",
    "        z1 = torch.cat((z[edge_label_index[0]], z[edge_label_index[1]]), dim=1)\n",
    "        out1 = self.W2(F.relu(self.W1(z1)).squeeze())\n",
    "        \n",
    "        z2 = torch.cat((z[edge_label_index[1]], z[edge_label_index[0]]), dim=1)\n",
    "        out2 = self.W2(F.relu(self.W1(z2)).squeeze())\n",
    "        \n",
    "        return (out1 + out2) / 2\n",
    "    \n",
    "    def forward(self, x, edge_index, edge_label_index, data=None):\n",
    "        z = self.encode(x, edge_index)\n",
    "        out = model.decode(z, edge_label_index)\n",
    "        return torch.hstack((-out, out)).T\n",
    "\n",
    "simple_model = SimpleNet(dataset.num_features, 128, 32).to(device)\n",
    "simple_optimizer = torch.optim.Adam(params=simple_model.parameters(), lr=3e-3)\n",
    "    \n",
    "model = Net(dataset.num_features, 128, 32).to(device)\n",
    "optimizer = torch.optim.Adam(params=model.parameters(), lr=3e-3)\n",
    "criterion = torch.nn.BCEWithLogitsLoss()\n",
    "\n",
    "# TODO: These methods simultaneously use node feature and graph structure properties.\n",
    "#       Is it possible to train models that look at each aspect separately\n",
    "#       Can look at only node features by just passing original layer to MLP\n",
    "#       Unsure if can look at only graph by passing random vector into GCNConv\n",
    "#       Should also read up on Node2Vec and other methods of generating node embeddings (talk to Rex)"
   ]
  },
  {
   "cell_type": "code",
   "execution_count": 5,
   "id": "89d020eb",
   "metadata": {},
   "outputs": [],
   "source": [
    "def train(model, optimizer, data):\n",
    "    model.train()\n",
    "    optimizer.zero_grad()\n",
    "    z = model.encode(data.x, data.edge_index)\n",
    "\n",
    "    # We perform a new round of negative sampling for every training epoch:\n",
    "    neg_edge_index = negative_sampling(\n",
    "        edge_index=data.edge_index, \n",
    "        num_nodes=data.num_nodes,\n",
    "        num_neg_samples=data.edge_label_index.shape[1], \n",
    "        method='sparse'\n",
    "    )\n",
    "    \n",
    "    edge_label_index = torch.cat([data.edge_label_index, neg_edge_index], dim=-1)\n",
    "    edge_label = torch.cat([data.edge_label, data.edge_label.new_zeros(neg_edge_index.size(1))], dim=0)\n",
    "\n",
    "    out = model.decode(z, edge_label_index).view(-1)\n",
    "    loss = criterion(out, edge_label)\n",
    "    loss.backward()\n",
    "    optimizer.step()\n",
    "    return loss\n",
    "\n",
    "\n",
    "@torch.no_grad()\n",
    "def test(model, data):\n",
    "    model.eval()\n",
    "    z = model.encode(data.x, data.edge_index)\n",
    "    out = model.decode(z, data.edge_label_index).view(-1).sigmoid()\n",
    "    a, b = data.edge_label.cpu().numpy(), out.cpu().numpy()\n",
    "    c = (out > 0.5).float().cpu().numpy()\n",
    "    return roc_auc_score(a, b), accuracy_score(a, c)"
   ]
  },
  {
   "cell_type": "code",
   "execution_count": 6,
   "id": "dab16a6e",
   "metadata": {},
   "outputs": [
    {
     "name": "stdout",
     "output_type": "stream",
     "text": [
      "Epoch: 050, Loss: 0.4866, Val: 0.9183 0.7606, Test: 0.8872 0.7579\n",
      "Epoch: 100, Loss: 0.4678, Val: 0.9312 0.7676, Test: 0.8991 0.7772\n",
      "Epoch: 150, Loss: 0.4449, Val: 0.9192 0.7711, Test: 0.8975 0.7842\n",
      "Epoch: 200, Loss: 0.4395, Val: 0.9217 0.7465, Test: 0.9005 0.7825\n",
      "Epoch: 250, Loss: 0.4440, Val: 0.9219 0.7641, Test: 0.8979 0.8000\n",
      "Epoch: 300, Loss: 0.4322, Val: 0.9169 0.7887, Test: 0.8980 0.8070\n",
      "Epoch: 350, Loss: 0.4283, Val: 0.9085 0.7852, Test: 0.8861 0.8035\n",
      "Epoch: 400, Loss: 0.4303, Val: 0.9168 0.7923, Test: 0.8887 0.7947\n",
      "Epoch: 450, Loss: 0.4392, Val: 0.9081 0.8063, Test: 0.8839 0.7895\n",
      "Epoch: 500, Loss: 0.4150, Val: 0.9058 0.7993, Test: 0.8815 0.7912\n",
      "Epoch: 550, Loss: 0.4118, Val: 0.9104 0.8099, Test: 0.8800 0.7895\n",
      "Epoch: 600, Loss: 0.4303, Val: 0.9022 0.7993, Test: 0.8788 0.7947\n",
      "Epoch: 650, Loss: 0.4222, Val: 0.9124 0.7993, Test: 0.8870 0.7895\n",
      "Epoch: 700, Loss: 0.4206, Val: 0.8965 0.7958, Test: 0.8744 0.7912\n",
      "Epoch: 750, Loss: 0.4045, Val: 0.8963 0.8063, Test: 0.8726 0.7947\n",
      "Epoch: 800, Loss: 0.4171, Val: 0.9010 0.8028, Test: 0.8782 0.7860\n",
      "Epoch: 850, Loss: 0.3984, Val: 0.9004 0.8028, Test: 0.8725 0.7825\n",
      "Epoch: 900, Loss: 0.4100, Val: 0.8980 0.7958, Test: 0.8698 0.7754\n",
      "Epoch: 950, Loss: 0.3992, Val: 0.9044 0.8063, Test: 0.8724 0.7825\n",
      "Epoch: 1000, Loss: 0.3989, Val: 0.8976 0.8204, Test: 0.8680 0.7807\n",
      "Final Test: 0.8970 0.7789\n"
     ]
    }
   ],
   "source": [
    "best_val_auc = final_test_auc = final_test_acc = 0\n",
    "for epoch in range(1, 1001):\n",
    "    loss = train(simple_model, simple_optimizer, train_data)\n",
    "    val_auc, val_acc = test(simple_model, val_data)\n",
    "    test_auc, test_acc = test(simple_model, test_data)\n",
    "    if val_auc > best_val_auc:\n",
    "        best_val_auc = val_auc\n",
    "        final_test_auc = test_auc\n",
    "        final_test_acc = test_acc\n",
    "    if epoch % 50 == 0:\n",
    "        print(f'Epoch: {epoch:03d}, Loss: {loss:.4f}, Val: {val_auc:.4f} {val_acc:.4f}, Test: {test_auc:.4f} {test_acc:.4f}')\n",
    "\n",
    "print(f'Final Test: {final_test_auc:.4f} {final_test_acc:.4f}')\n",
    "\n",
    "simple_z = simple_model.encode(test_data.x, test_data.edge_index)\n",
    "simple_final_edge_index = simple_model.decode(simple_z, test_data.edge_label_index)"
   ]
  },
  {
   "cell_type": "code",
   "execution_count": 7,
   "id": "ab773d26",
   "metadata": {},
   "outputs": [
    {
     "name": "stdout",
     "output_type": "stream",
     "text": [
      "Epoch: 050, Loss: 0.3929, Val: 0.9296 0.8627, Test: 0.8937 0.8105\n",
      "Epoch: 100, Loss: 0.3120, Val: 0.9285 0.8486, Test: 0.9290 0.8439\n",
      "Epoch: 150, Loss: 0.2919, Val: 0.9344 0.8627, Test: 0.9385 0.8649\n",
      "Epoch: 200, Loss: 0.2823, Val: 0.9412 0.8662, Test: 0.9393 0.8789\n",
      "Epoch: 250, Loss: 0.2697, Val: 0.9449 0.8732, Test: 0.9408 0.8737\n",
      "Epoch: 300, Loss: 0.2831, Val: 0.9453 0.8697, Test: 0.9407 0.8719\n",
      "Epoch: 350, Loss: 0.2687, Val: 0.9461 0.8768, Test: 0.9420 0.8649\n",
      "Epoch: 400, Loss: 0.2513, Val: 0.9454 0.8979, Test: 0.9419 0.8807\n",
      "Epoch: 450, Loss: 0.2605, Val: 0.9485 0.8803, Test: 0.9426 0.8772\n",
      "Epoch: 500, Loss: 0.2467, Val: 0.9463 0.8838, Test: 0.9440 0.8825\n",
      "Epoch: 550, Loss: 0.2347, Val: 0.9457 0.8873, Test: 0.9439 0.8877\n",
      "Epoch: 600, Loss: 0.2349, Val: 0.9477 0.8732, Test: 0.9439 0.8754\n",
      "Epoch: 650, Loss: 0.2360, Val: 0.9488 0.8803, Test: 0.9445 0.8825\n",
      "Epoch: 700, Loss: 0.2519, Val: 0.9476 0.8732, Test: 0.9438 0.8737\n",
      "Epoch: 750, Loss: 0.2307, Val: 0.9473 0.8838, Test: 0.9440 0.8825\n",
      "Epoch: 800, Loss: 0.2337, Val: 0.9472 0.8768, Test: 0.9445 0.8789\n",
      "Epoch: 850, Loss: 0.2203, Val: 0.9481 0.8697, Test: 0.9440 0.8719\n",
      "Epoch: 900, Loss: 0.2264, Val: 0.9492 0.8592, Test: 0.9448 0.8737\n",
      "Epoch: 950, Loss: 0.2187, Val: 0.9507 0.8838, Test: 0.9460 0.8825\n",
      "Epoch: 1000, Loss: 0.2430, Val: 0.9510 0.8873, Test: 0.9479 0.8842\n",
      "Final Test: 0.9480 0.8825\n"
     ]
    }
   ],
   "source": [
    "best_val_auc = final_test_auc = final_test_acc = 0\n",
    "for epoch in range(1, 1001):\n",
    "    loss = train(model, optimizer, train_data)\n",
    "    val_auc, val_acc = test(model, val_data)\n",
    "    test_auc, test_acc = test(model, test_data)\n",
    "    if val_auc > best_val_auc:\n",
    "        best_val_auc = val_auc\n",
    "        final_test_auc = test_auc\n",
    "        final_test_acc = test_acc\n",
    "    if epoch % 50 == 0:\n",
    "        print(f'Epoch: {epoch:03d}, Loss: {loss:.4f}, Val: {val_auc:.4f} {val_acc:.4f}, Test: {test_auc:.4f} {test_acc:.4f}')\n",
    "\n",
    "print(f'Final Test: {final_test_auc:.4f} {final_test_acc:.4f}')\n",
    "\n",
    "z = model.encode(test_data.x, test_data.edge_index)\n",
    "final_edge_index = model.decode(z, test_data.edge_label_index)"
   ]
  },
  {
   "cell_type": "code",
   "execution_count": 8,
   "id": "302971e7",
   "metadata": {},
   "outputs": [
    {
     "data": {
      "text/plain": [
       "tensor(0.8544)"
      ]
     },
     "execution_count": 8,
     "metadata": {},
     "output_type": "execute_result"
    }
   ],
   "source": [
    "(test_data.edge_label == (torch.sigmoid(simple_final_edge_index.squeeze()) > 0.7)).sum() / test_data.edge_label.shape[0]"
   ]
  },
  {
   "cell_type": "code",
   "execution_count": 9,
   "id": "91541c63",
   "metadata": {},
   "outputs": [
    {
     "data": {
      "text/plain": [
       "tensor(0.8842)"
      ]
     },
     "execution_count": 9,
     "metadata": {},
     "output_type": "execute_result"
    }
   ],
   "source": [
    "(test_data.edge_label == (torch.sigmoid(final_edge_index.squeeze()) > 0.5)).sum() / test_data.edge_label.shape[0]"
   ]
  },
  {
   "cell_type": "code",
   "execution_count": 10,
   "id": "058f81b7",
   "metadata": {},
   "outputs": [
    {
     "data": {
      "text/plain": [
       "tensor([[-0.7007,  0.1209, -0.5373,  ...,  1.3765, -0.4524,  0.1600],\n",
       "        [ 0.7007, -0.1209,  0.5373,  ..., -1.3765,  0.4524, -0.1600]],\n",
       "       grad_fn=<PermuteBackward0>)"
      ]
     },
     "execution_count": 10,
     "metadata": {},
     "output_type": "execute_result"
    }
   ],
   "source": [
    "simple_model.forward(test_data.x, test_data.edge_index, test_data.edge_label_index)"
   ]
  },
  {
   "cell_type": "code",
   "execution_count": 11,
   "id": "450045eb",
   "metadata": {},
   "outputs": [
    {
     "data": {
      "text/plain": [
       "tensor([[ -8.1210,  -0.9013,  -0.9967,  ...,  -1.3552,  13.1518,   6.6645],\n",
       "        [  8.1210,   0.9013,   0.9967,  ...,   1.3552, -13.1518,  -6.6645]],\n",
       "       grad_fn=<PermuteBackward0>)"
      ]
     },
     "execution_count": 11,
     "metadata": {},
     "output_type": "execute_result"
    }
   ],
   "source": [
    "model.forward(test_data.x, test_data.edge_index, test_data.edge_label_index)"
   ]
  },
  {
   "cell_type": "markdown",
   "id": "f638c834",
   "metadata": {},
   "source": [
    "## SubgraphX"
   ]
  },
  {
   "cell_type": "code",
   "execution_count": 78,
   "id": "a60dc185",
   "metadata": {},
   "outputs": [],
   "source": [
    "from datetime import datetime"
   ]
  },
  {
   "cell_type": "code",
   "execution_count": 79,
   "id": "706acc81",
   "metadata": {},
   "outputs": [
    {
     "data": {
      "text/plain": [
       "tensor([ 24, 187])"
      ]
     },
     "execution_count": 79,
     "metadata": {},
     "output_type": "execute_result"
    }
   ],
   "source": [
    "test_data.edge_label_index[:, 12]"
   ]
  },
  {
   "cell_type": "code",
   "execution_count": 81,
   "id": "e946e19b",
   "metadata": {},
   "outputs": [
    {
     "name": "stdout",
     "output_type": "stream",
     "text": [
      "Num Neighbors: 81\n",
      "Node 1 Neighbors: {256, 129, 2, 269, 270, 271, 275, 147, 276, 20, 279, 25, 282, 157, 30, 289, 290, 38, 39, 168, 169, 296, 175, 50, 55, 184, 185, 64, 321, 66, 322, 324, 68, 198, 71, 199, 72, 330, 75, 331, 335, 82, 83, 87, 346, 220, 93, 223, 97, 230, 231, 103, 102, 104, 235, 236, 238, 112, 245, 121}\n",
      "Node 2 Neighbors: {257, 2, 132, 8, 12, 141, 270, 271, 273, 276, 20, 279, 25, 155, 284, 29, 289, 290, 164, 296, 169, 303, 175, 55, 184, 185, 314, 321, 322, 66, 199, 74, 333, 78, 207, 84, 341, 222, 103, 238, 112, 118, 121, 251}\n",
      "Overlapping Neighbors: {2, 270, 271, 276, 20, 279, 25, 289, 290, 296, 169, 175, 55, 184, 185, 321, 322, 66, 199, 103, 238, 112, 121}\n"
     ]
    }
   ],
   "source": [
    "node_1 = 24\n",
    "node_2 = 187\n",
    "\n",
    "node_1_neighbors = set(test_data.edge_index[:, (test_data.edge_index[0] == node_1)][1].cpu().numpy())\n",
    "node_2_neighbors = set(test_data.edge_index[:, (test_data.edge_index[0] == node_2)][1].cpu().numpy())\n",
    "neighbors = np.array(list(node_1_neighbors.union(node_2_neighbors)))\n",
    "\n",
    "print(\"Num Neighbors:\", neighbors.shape[0])\n",
    "print(\"Node 1 Neighbors:\", node_1_neighbors)\n",
    "print(\"Node 2 Neighbors:\", node_2_neighbors)\n",
    "print(\"Overlapping Neighbors:\", node_1_neighbors.intersection(node_2_neighbors))"
   ]
  },
  {
   "cell_type": "code",
   "execution_count": 84,
   "id": "5474dde3",
   "metadata": {
    "scrolled": true
   },
   "outputs": [
    {
     "name": "stderr",
     "output_type": "stream",
     "text": [
      "C:\\Users\\Abhijit\\AppData\\Local\\Temp\\ipykernel_4984\\888700931.py:9: UserWarning: masked_fill_ received a mask with dtype torch.uint8, this behavior is now deprecated,please use a mask with dtype torch.bool instead. (Triggered internally at  C:\\actions-runner\\_work\\pytorch\\pytorch\\builder\\windows\\pytorch\\aten\\src\\ATen\\native\\TensorAdvancedIndexing.cpp:1582.)\n",
      "  S_filter[(sub_edge_mask) & (np.random.random(sub_edge_mask.shape[0]) > 0.5)] = False\n"
     ]
    },
    {
     "name": "stdout",
     "output_type": "stream",
     "text": [
      "256 \t -0.23624 \t 0.20532 \t -1.15057\n",
      "257 \t 2.63194 \t 0.1327 \t 19.8338\n",
      "2 \t 1.70449 \t 0.1264 \t 13.48506\n",
      "8 \t -0.25916 \t 0.30501 \t -0.84968\n",
      "12 \t 2.26551 \t 0.23972 \t 9.45075\n",
      "269 \t -2.0956 \t 0.09302 \t -22.52953\n",
      "270 \t 11.00256 \t 0.34759 \t 31.65416\n",
      "271 \t 1.46325 \t 0.37257 \t 3.92751\n",
      "273 \t 0.73915 \t 0.14742 \t 5.01373\n",
      "275 \t 6.56457 \t 0.22725 \t 28.8874\n",
      "276 \t 7.04733 \t 0.18199 \t 38.72284\n",
      "20 \t 16.52218 \t 0.32587 \t 50.70237\n",
      "279 \t 0.19623 \t 0.21007 \t 0.93415\n",
      "25 \t -2.41853 \t 0.25051 \t -9.65425\n",
      "282 \t -0.08848 \t 0.09243 \t -0.95724\n",
      "284 \t 11.34167 \t 0.35969 \t 31.53145\n",
      "29 \t -2.04181 \t 0.11809 \t -17.28971\n",
      "30 \t 2.33152 \t 0.17115 \t 13.62265\n",
      "289 \t -0.21164 \t 0.12535 \t -1.68838\n",
      "290 \t 1.23024 \t 0.2617 \t 4.70092\n",
      "38 \t -0.98675 \t 0.10734 \t -9.19234\n",
      "39 \t 7.18512 \t 0.24824 \t 28.94441\n",
      "296 \t -2.37144 \t 0.22017 \t -10.77106\n",
      "303 \t -9.93497 \t 0.23562 \t -42.16504\n",
      "50 \t -5.49272 \t 0.15114 \t -36.34202\n",
      "55 \t -4.00812 \t 0.30177 \t -13.28219\n",
      "314 \t -1.94736 \t 0.2471 \t -7.88075\n",
      "64 \t 1.75813 \t 0.10181 \t 17.26805\n",
      "321 \t -4.61022 \t 0.21631 \t -21.31323\n",
      "66 \t 14.91914 \t 0.3992 \t 37.37276\n",
      "322 \t 4.14987 \t 0.32128 \t 12.91658\n",
      "324 \t 0.87709 \t 0.15931 \t 5.50575\n",
      "68 \t 1.56112 \t 0.10895 \t 14.32925\n",
      "71 \t -0.83703 \t 0.2048 \t -4.08712\n",
      "72 \t 2.19842 \t 0.11895 \t 18.48223\n",
      "330 \t -0.52924 \t 0.1639 \t -3.22909\n",
      "75 \t 1.07762 \t 0.06599 \t 16.33057\n",
      "331 \t -4.29841 \t 0.28192 \t -15.24672\n",
      "74 \t -0.25706 \t 0.15173 \t -1.69418\n",
      "333 \t -1.16085 \t 0.20161 \t -5.75792\n",
      "335 \t -0.97448 \t 0.0375 \t -25.98362\n",
      "78 \t 0.8323 \t 0.13012 \t 6.39613\n",
      "82 \t -4.50904 \t 0.18803 \t -23.98094\n",
      "83 \t 6.02528 \t 0.2696 \t 22.34936\n",
      "84 \t -7.26887 \t 0.2248 \t -32.33554\n",
      "341 \t -3.61137 \t 0.32315 \t -11.17568\n",
      "87 \t -4.07616 \t 0.15139 \t -26.92408\n",
      "346 \t 11.7906 \t 0.33162 \t 35.55467\n",
      "93 \t -3.96909 \t 0.13592 \t -29.20223\n",
      "97 \t 0.53413 \t 0.19465 \t 2.74403\n",
      "102 \t 1.75038 \t 0.13331 \t 13.13047\n",
      "103 \t 0.22972 \t 0.24692 \t 0.93034\n",
      "104 \t 0.46845 \t 0.20605 \t 2.27348\n",
      "112 \t 1.70922 \t 0.21779 \t 7.84789\n",
      "118 \t 1.52601 \t 0.35056 \t 4.35302\n",
      "121 \t -8.65366 \t 0.22731 \t -38.06989\n",
      "129 \t 0.82962 \t 0.09231 \t 8.9878\n",
      "132 \t -2.74085 \t 0.17107 \t -16.02224\n",
      "141 \t -6.66026 \t 0.20212 \t -32.95241\n",
      "147 \t -2.06472 \t 0.19968 \t -10.33992\n",
      "155 \t 6.8832 \t 0.22959 \t 29.98008\n",
      "157 \t 2.46522 \t 0.15807 \t 15.59619\n",
      "164 \t 1.22264 \t 0.08829 \t 13.84746\n",
      "168 \t 7.35735 \t 0.24253 \t 30.33545\n",
      "169 \t 21.36663 \t 0.29969 \t 71.29553\n",
      "175 \t 2.94004 \t 0.12611 \t 23.3142\n",
      "184 \t -1.06542 \t 0.16381 \t -6.50414\n",
      "185 \t -0.68225 \t 0.18218 \t -3.7449\n",
      "198 \t 3.42582 \t 0.27432 \t 12.48845\n",
      "199 \t -3.80278 \t 0.27871 \t -13.64425\n",
      "207 \t -2.81357 \t 0.1483 \t -18.97248\n",
      "220 \t 0.35665 \t 0.07295 \t 4.88912\n",
      "222 \t -3.75631 \t 0.20666 \t -18.17637\n",
      "223 \t 4.59674 \t 0.26909 \t 17.08241\n",
      "230 \t -3.68961 \t 0.16781 \t -21.98746\n",
      "231 \t -1.90649 \t 0.21116 \t -9.02864\n",
      "235 \t 8.82299 \t 0.26889 \t 32.81296\n",
      "236 \t 3.28345 \t 0.21953 \t 14.95689\n",
      "238 \t 0.4878 \t 0.18009 \t 2.70861\n",
      "245 \t -3.09063 \t 0.11743 \t -26.31851\n",
      "251 \t 6.33403 \t 0.33751 \t 18.76679\n",
      "0:01:37.112044\n"
     ]
    }
   ],
   "source": [
    "start = datetime.now()\n",
    "\n",
    "T = 100\n",
    "for neighbor in neighbors:\n",
    "    pred_diffs = []\n",
    "    for t in range(T):\n",
    "        S_filter = torch.zeros(test_data.edge_index.shape[1], dtype=bool)\n",
    "        S_filter[sub_edge_mask] = True\n",
    "        S_filter[(sub_edge_mask) & (np.random.random(sub_edge_mask.shape[0]) > 0.5)] = False\n",
    "        S_filter[(test_data.edge_index[0] == neighbor)] = False\n",
    "        \n",
    "        old_z = model.encode(test_data.x, test_data.edge_index[:, S_filter])\n",
    "        old_pred = model.decode(old_z, torch.tensor([[node_1], [node_2]]))\n",
    "        \n",
    "        S_filter[(test_data.edge_index[0] == neighbor)] = True\n",
    "        new_z = model.encode(test_data.x, test_data.edge_index[:, S_filter])\n",
    "        new_pred = model.decode(new_z, torch.tensor([[node_1], [node_2]]))\n",
    "        \n",
    "        pred_diff = (new_pred - old_pred)\n",
    "        pred_diffs.append(pred_diff.item())\n",
    "    diff_avg, diff_std = sum(pred_diffs) / len(pred_diffs), statistics.stdev(pred_diffs) / np.sqrt(T)\n",
    "    print(neighbor, \"\\t\", round(diff_avg, 5), \"\\t\", round(diff_std, 5), \"\\t\", round(diff_avg / diff_std, 5))\n",
    "    \n",
    "print(datetime.now() - start)"
   ]
  },
  {
   "cell_type": "code",
   "execution_count": 85,
   "id": "b48f0f66",
   "metadata": {},
   "outputs": [
    {
     "name": "stderr",
     "output_type": "stream",
     "text": [
      "C:\\Users\\Abhijit\\AppData\\Local\\Temp\\ipykernel_4984\\886932573.py:15: UserWarning: masked_fill_ received a mask with dtype torch.uint8, this behavior is now deprecated,please use a mask with dtype torch.bool instead. (Triggered internally at  C:\\actions-runner\\_work\\pytorch\\pytorch\\builder\\windows\\pytorch\\aten\\src\\ATen\\native\\TensorAdvancedIndexing.cpp:1582.)\n",
      "  S_filter[(sub_edge_mask) & (np.random.random(sub_edge_mask.shape[0]) > 0.5)] = False\n"
     ]
    },
    {
     "name": "stdout",
     "output_type": "stream",
     "text": [
      "256 \t 47.34591 \t 2.0414 \t 23.19289\n",
      "257 \t 9.22889 \t 2.59578 \t 3.55535\n",
      "2 \t 38.49619 \t 1.93213 \t 19.9242\n",
      "8 \t -73.15079 \t 3.05025 \t -23.98188\n",
      "12 \t -28.17014 \t 1.70598 \t -16.51257\n",
      "269 \t -6.24218 \t 0.62798 \t -9.94005\n",
      "270 \t 245.84079 \t 7.37823 \t 33.31973\n",
      "271 \t -12.94925 \t 1.76703 \t -7.32827\n",
      "273 \t -13.19283 \t 1.49436 \t -8.82842\n",
      "275 \t 59.13121 \t 2.17673 \t 27.16512\n",
      "276 \t -54.59223 \t 2.97681 \t -18.33914\n",
      "20 \t -16.43155 \t 3.30116 \t -4.97751\n",
      "279 \t -49.50857 \t 2.38885 \t -20.72486\n",
      "25 \t -73.75965 \t 3.43174 \t -21.4934\n",
      "282 \t -4.46916 \t 0.53034 \t -8.42699\n",
      "284 \t 428.3876 \t 10.79991 \t 39.66584\n",
      "29 \t -18.76953 \t 1.51875 \t -12.35855\n",
      "30 \t -4.46488 \t 1.45683 \t -3.06478\n",
      "289 \t -3.96742 \t 2.53627 \t -1.56427\n",
      "290 \t 36.87545 \t 2.89856 \t 12.72197\n",
      "38 \t -17.92081 \t 1.0669 \t -16.79702\n",
      "39 \t 13.01413 \t 5.39523 \t 2.41215\n",
      "296 \t 17.88263 \t 4.84899 \t 3.68791\n",
      "303 \t -50.8671 \t 2.2852 \t -22.25933\n",
      "50 \t -9.01994 \t 0.70616 \t -12.7733\n",
      "55 \t 503.88052 \t 10.39109 \t 48.49159\n",
      "314 \t -0.40873 \t 3.20536 \t -0.12752\n",
      "64 \t 2.03439 \t 0.80847 \t 2.51636\n",
      "321 \t -47.1577 \t 3.4661 \t -13.60539\n",
      "66 \t 444.8683 \t 9.24872 \t 48.10052\n",
      "322 \t 530.99864 \t 13.99132 \t 37.95201\n",
      "324 \t -30.70633 \t 2.11151 \t -14.54235\n",
      "68 \t 20.6167 \t 1.09638 \t 18.80437\n",
      "71 \t -4.678 \t 2.54094 \t -1.84105\n",
      "72 \t -4.44717 \t 1.1656 \t -3.81533\n",
      "330 \t 27.735 \t 2.84137 \t 9.76113\n",
      "75 \t -4.25451 \t 0.3126 \t -13.61011\n",
      "331 \t 66.16465 \t 5.4539 \t 12.13161\n",
      "74 \t 8.98289 \t 2.33217 \t 3.85174\n",
      "333 \t -29.387 \t 2.35432 \t -12.48217\n",
      "335 \t -8.08253 \t 0.43307 \t -18.66348\n",
      "78 \t 25.39582 \t 1.721 \t 14.75647\n",
      "82 \t -8.77062 \t 0.35662 \t -24.59355\n",
      "83 \t -11.14137 \t 1.39331 \t -7.99636\n",
      "84 \t -1.14724 \t 1.51588 \t -0.75682\n",
      "341 \t 14.28286 \t 3.24809 \t 4.3973\n",
      "87 \t -15.48755 \t 0.94726 \t -16.34981\n",
      "346 \t 1018.11117 \t 15.59399 \t 65.28869\n",
      "93 \t -8.27792 \t 0.82394 \t -10.04675\n",
      "97 \t -50.56354 \t 2.55023 \t -19.82703\n",
      "102 \t 9.37438 \t 1.5116 \t 6.20161\n",
      "103 \t 40.18178 \t 1.64656 \t 24.40344\n",
      "104 \t 8.83767 \t 2.73127 \t 3.23574\n",
      "112 \t 73.66297 \t 2.74856 \t 26.80059\n",
      "118 \t 49.30691 \t 5.34487 \t 9.22509\n",
      "121 \t -36.89709 \t 2.7626 \t -13.35594\n",
      "129 \t -1.20568 \t 0.61086 \t -1.97373\n",
      "132 \t 19.86914 \t 1.17568 \t 16.90013\n",
      "141 \t 29.69117 \t 2.93351 \t 10.12138\n",
      "147 \t 10.81031 \t 1.49308 \t 7.24028\n",
      "155 \t -23.82987 \t 1.64362 \t -14.49844\n",
      "157 \t -21.80216 \t 1.51941 \t -14.34906\n",
      "164 \t 12.82487 \t 1.56537 \t 8.19289\n",
      "168 \t 115.08632 \t 3.37488 \t 34.10085\n",
      "169 \t 458.2935 \t 10.69181 \t 42.864\n",
      "175 \t 46.14921 \t 1.65063 \t 27.95847\n",
      "184 \t -49.45493 \t 2.13341 \t -23.18113\n",
      "185 \t -40.57719 \t 2.09121 \t -19.40367\n",
      "198 \t -21.85958 \t 1.71458 \t -12.74925\n",
      "199 \t 406.68111 \t 9.99596 \t 40.68456\n",
      "207 \t -11.32054 \t 1.33957 \t -8.45085\n",
      "220 \t 0.78122 \t 0.91145 \t 0.85712\n",
      "222 \t -21.68826 \t 2.91921 \t -7.42949\n",
      "223 \t 48.27255 \t 2.51596 \t 19.1865\n",
      "230 \t -16.21167 \t 1.05379 \t -15.38416\n",
      "231 \t 46.93763 \t 3.06883 \t 15.29498\n",
      "235 \t 188.42943 \t 7.64376 \t 24.65142\n",
      "236 \t 3.23316 \t 0.95423 \t 3.38823\n",
      "238 \t -11.17112 \t 2.71249 \t -4.1184\n",
      "245 \t -14.16043 \t 1.15027 \t -12.31051\n",
      "251 \t 836.49525 \t 20.7829 \t 40.2492\n",
      "0:00:48.294722\n"
     ]
    }
   ],
   "source": [
    "from torch_geometric.data import Data\n",
    "\n",
    "start = datetime.now()\n",
    "\n",
    "T = 100\n",
    "data_arr = []\n",
    "for neighbor in neighbors: \n",
    "    temp_edge_label_index = torch.tensor([[node_1], [node_2]])\n",
    "    # Only optimizes the edges from neighbors to node_1/node_2, other direction not needed for prediction\n",
    "    sub_edge_mask = (test_data.edge_index[1] == node_1) |  (test_data.edge_index[1] == node_2)\n",
    "    pred_diffs = []\n",
    "    for t in range(T):\n",
    "        S_filter = torch.zeros(test_data.edge_index.shape[1], dtype=bool)\n",
    "        S_filter[sub_edge_mask] = True\n",
    "        S_filter[(sub_edge_mask) & (np.random.random(sub_edge_mask.shape[0]) > 0.5)] = False\n",
    "        S_filter[(test_data.edge_index[0] == neighbor)] = False\n",
    "        temp_data_1 = Data(x=test_data.x, edge_index=test_data.edge_index[:, S_filter], edge_label_index=temp_edge_label_index)\n",
    "        S_filter[(test_data.edge_index[0] == neighbor)] = True\n",
    "        temp_data_2 = Data(x=test_data.x, edge_index=test_data.edge_index[:, S_filter], edge_label_index=temp_edge_label_index)\n",
    "        data_arr.extend([temp_data_1, temp_data_2])\n",
    "        \n",
    "preds = []\n",
    "data_loader = DataLoader(data_arr, batch_size=128, shuffle=False)\n",
    "for batch in data_loader:\n",
    "    z = model.encode(batch.x, batch.edge_index)\n",
    "    pred = model.decode(z, batch.edge_label_index)\n",
    "    pred = pred.squeeze().cpu().detach().tolist()\n",
    "    preds.extend(pred)\n",
    "    \n",
    "for i, neighbor in enumerate(neighbors):\n",
    "    T = 100\n",
    "    curr_preds = preds[2 * T * i:2 * T * (i + 1)]\n",
    "    pred_diffs = [curr_preds[2 * j + 1] - curr_preds[2 * j] for j in range(T)]\n",
    "    diff_avg, diff_std = sum(pred_diffs) / len(pred_diffs), statistics.stdev(pred_diffs) / np.sqrt(T)\n",
    "    print(neighbor, \"\\t\", round(diff_avg, 5), \"\\t\", round(diff_std, 5), \"\\t\", round(diff_avg / diff_std, 5))\n",
    "    \n",
    "print(datetime.now() - start)"
   ]
  },
  {
   "cell_type": "code",
   "execution_count": null,
   "id": "a014be16",
   "metadata": {},
   "outputs": [],
   "source": []
  }
 ],
 "metadata": {
  "kernelspec": {
   "display_name": "Python 3 (ipykernel)",
   "language": "python",
   "name": "python3"
  },
  "language_info": {
   "codemirror_mode": {
    "name": "ipython",
    "version": 3
   },
   "file_extension": ".py",
   "mimetype": "text/x-python",
   "name": "python",
   "nbconvert_exporter": "python",
   "pygments_lexer": "ipython3",
   "version": "3.8.6"
  }
 },
 "nbformat": 4,
 "nbformat_minor": 5
}
