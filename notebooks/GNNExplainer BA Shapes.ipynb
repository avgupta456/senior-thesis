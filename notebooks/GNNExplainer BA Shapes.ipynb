{
 "cells": [
  {
   "cell_type": "code",
   "execution_count": 1,
   "id": "672a8146",
   "metadata": {},
   "outputs": [
    {
     "name": "stderr",
     "output_type": "stream",
     "text": [
      "C:\\Users\\Abhijit\\Documents\\GitHub\\cpsc490\\.venv\\lib\\site-packages\\tqdm\\auto.py:22: TqdmWarning: IProgress not found. Please update jupyter and ipywidgets. See https://ipywidgets.readthedocs.io/en/stable/user_install.html\n",
      "  from .autonotebook import tqdm as notebook_tqdm\n"
     ]
    }
   ],
   "source": [
    "import torch\n",
    "import torch.nn.functional as F\n",
    "from sklearn.metrics import roc_auc_score\n",
    "from sklearn.model_selection import train_test_split\n",
    "from tqdm import tqdm\n",
    "\n",
    "import torch_geometric.transforms as T\n",
    "from torch_geometric.datasets import BAShapes\n",
    "from torch_geometric.nn import GCN, GNNExplainer\n",
    "from torch_geometric.utils import k_hop_subgraph"
   ]
  },
  {
   "cell_type": "code",
   "execution_count": 2,
   "id": "9c6ba089",
   "metadata": {},
   "outputs": [],
   "source": [
    "dataset = BAShapes(transform=T.GCNNorm())\n",
    "data = dataset[0]\n",
    "\n",
    "idx = torch.arange(data.num_nodes)\n",
    "train_idx, test_idx = train_test_split(idx, train_size=0.8, stratify=data.y)\n",
    "\n",
    "device = torch.device('cuda' if torch.cuda.is_available() else 'cpu')\n",
    "data = data.to(device)\n",
    "\n",
    "model = GCN(\n",
    "    data.num_node_features, \n",
    "    hidden_channels=20, \n",
    "    num_layers=3,\n",
    "    out_channels=dataset.num_classes, \n",
    "    normalize=False\n",
    ").to(device)\n",
    "\n",
    "optimizer = torch.optim.Adam(model.parameters(), lr=0.001, weight_decay=0.005)"
   ]
  },
  {
   "cell_type": "code",
   "execution_count": 3,
   "id": "96d5d8dc",
   "metadata": {},
   "outputs": [
    {
     "name": "stdout",
     "output_type": "stream",
     "text": [
      "Epoch: 0200, Loss: 1.2757, Train: 0.4286, Test: 0.4286\n",
      "Epoch: 0400, Loss: 1.2551, Train: 0.4286, Test: 0.4286\n",
      "Epoch: 0600, Loss: 1.2107, Train: 0.4286, Test: 0.4286\n",
      "Epoch: 0800, Loss: 1.1368, Train: 0.4286, Test: 0.4286\n",
      "Epoch: 1000, Loss: 1.0079, Train: 0.6250, Test: 0.6214\n",
      "Epoch: 1200, Loss: 0.8570, Train: 0.7982, Test: 0.8286\n",
      "Epoch: 1400, Loss: 0.7577, Train: 0.8750, Test: 0.8786\n",
      "Epoch: 1600, Loss: 0.6964, Train: 0.8768, Test: 0.8786\n",
      "Epoch: 1800, Loss: 0.6390, Train: 0.8839, Test: 0.8786\n",
      "Epoch: 2000, Loss: 0.5966, Train: 0.8857, Test: 0.8786\n"
     ]
    }
   ],
   "source": [
    "def train():\n",
    "    model.train()\n",
    "    optimizer.zero_grad()\n",
    "    out = model(data.x, data.edge_index, edge_weight=data.edge_weight)\n",
    "    loss = F.cross_entropy(out[train_idx], data.y[train_idx])\n",
    "    torch.nn.utils.clip_grad_norm_(model.parameters(), 2.0)\n",
    "    loss.backward()\n",
    "    optimizer.step()\n",
    "    return float(loss)\n",
    "\n",
    "\n",
    "@torch.no_grad()\n",
    "def test():\n",
    "    model.eval()\n",
    "    pred = model(data.x, data.edge_index, edge_weight=data.edge_weight).argmax(dim=-1)\n",
    "\n",
    "    train_correct = int((pred[train_idx] == data.y[train_idx]).sum())\n",
    "    train_acc = train_correct / train_idx.size(0)\n",
    "\n",
    "    test_correct = int((pred[test_idx] == data.y[test_idx]).sum())\n",
    "    test_acc = test_correct / test_idx.size(0)\n",
    "\n",
    "    return train_acc, test_acc\n",
    "\n",
    "\n",
    "for epoch in range(1, 2001):\n",
    "    loss = train()\n",
    "    if epoch % 200 == 0:\n",
    "        train_acc, test_acc = test()\n",
    "        print(f'Epoch: {epoch:04d}, Loss: {loss:.4f}, Train: {train_acc:.4f}, Test: {test_acc:.4f}')"
   ]
  },
  {
   "cell_type": "code",
   "execution_count": 4,
   "id": "d7c8a336",
   "metadata": {},
   "outputs": [
    {
     "name": "stderr",
     "output_type": "stream",
     "text": [
      "100%|██████████████████████████████████████████████████████████████████████████████████████████████████████████████████████████████████████████████████████████████████████████| 60/60 [01:07<00:00,  1.12s/it]\n"
     ]
    }
   ],
   "source": [
    "model.eval()\n",
    "targets, preds = [], []\n",
    "expl = GNNExplainer(model, epochs=300, return_type='raw', log=False)\n",
    "\n",
    "# Explanation ROC AUC over all test nodes:\n",
    "loop_mask = data.edge_index[0] != data.edge_index[1]\n",
    "for node_idx in tqdm(data.expl_mask.nonzero(as_tuple=False).view(-1).tolist()):\n",
    "    _, expl_edge_mask = expl.explain_node(\n",
    "        node_idx, data.x, data.edge_index, edge_weight=data.edge_weight\n",
    "    )\n",
    "    subgraph = k_hop_subgraph(node_idx, num_hops=3, edge_index=data.edge_index)\n",
    "    expl_edge_mask = expl_edge_mask[loop_mask]\n",
    "    subgraph_edge_mask = subgraph[3][loop_mask]\n",
    "    targets.append(data.edge_label[subgraph_edge_mask].cpu())\n",
    "    preds.append(expl_edge_mask[subgraph_edge_mask].cpu())"
   ]
  },
  {
   "cell_type": "code",
   "execution_count": 5,
   "id": "478a7d06",
   "metadata": {},
   "outputs": [
    {
     "name": "stdout",
     "output_type": "stream",
     "text": [
      "ROC AUC: 0.4330\n"
     ]
    }
   ],
   "source": [
    "auc = roc_auc_score(torch.cat(targets), torch.cat(preds))\n",
    "\n",
    "print(f'ROC AUC: {auc:.4f}')"
   ]
  }
 ],
 "metadata": {
  "kernelspec": {
   "display_name": "Python 3 (ipykernel)",
   "language": "python",
   "name": "python3"
  },
  "language_info": {
   "codemirror_mode": {
    "name": "ipython",
    "version": 3
   },
   "file_extension": ".py",
   "mimetype": "text/x-python",
   "name": "python",
   "nbconvert_exporter": "python",
   "pygments_lexer": "ipython3",
   "version": "3.8.6"
  }
 },
 "nbformat": 4,
 "nbformat_minor": 5
}
